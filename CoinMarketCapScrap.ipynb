{
  "cells": [
    {
      "cell_type": "markdown",
      "metadata": {
        "id": "YZYGoDZHlofE"
      },
      "source": [
        "# Scraping using BeatifulSoup\n",
        "* you have to donwload html of coinmarketcap beacuse it have lazy loading so the records doesn't charge very welll. In this project I donwloaded html on 17/04/2024"
      ]
    },
    {
      "cell_type": "code",
      "execution_count": 2,
      "metadata": {
        "id": "uV4vsNrgL7S9"
      },
      "outputs": [],
      "source": [
        "import requests\n",
        "from bs4 import BeautifulSoup\n",
        "import pandas as pd"
      ]
    },
    {
      "cell_type": "code",
      "execution_count": 126,
      "metadata": {
        "id": "DDxveVCIgQgG"
      },
      "outputs": [],
      "source": [
        "def read_html(file_path):\n",
        "    # Leer el contenido del archivo HTML\n",
        "    with open(file_path, \"r\", encoding=\"utf-8\") as file:\n",
        "        html_content = file.read()\n",
        "\n",
        "    # Parsear el HTML con BeautifulSoup\n",
        "    soup = BeautifulSoup(html_content, 'html.parser')\n",
        "    return soup"
      ]
    },
    {
      "cell_type": "code",
      "execution_count": 127,
      "metadata": {
        "id": "VLSQPoXUPAo-"
      },
      "outputs": [],
      "source": [
        "def process_of_html(soup):\n",
        "    rows = soup.find_all('tr')\n",
        "    data_list = []\n",
        "\n",
        "    # Iterar sobre las filas de la tabla\n",
        "    for row in rows[1:]:\n",
        "        # Encontrar todas las celdas de la fila\n",
        "        cells = row.find_all(['th', 'td'])\n",
        "        cells.pop()\n",
        "        cells.pop(0)\n",
        "\n",
        "        # Extraer el texto de cada celda y agregarlo a la lista de datos\n",
        "        data_row = []\n",
        "        for cell in cells:\n",
        "            # Obtener el texto de la celda\n",
        "            cell_text = ' '.join([text.strip() for text in cell.find_all(text=True)])\n",
        "            for element in cell.find_all():\n",
        "                class_name = element.get('class')\n",
        "                if class_name:\n",
        "                    if \"icon-Caret-up\" in class_name:\n",
        "                        cell_text = \"+\" + cell_text\n",
        "\n",
        "                    elif \"icon-Caret-down\" in class_name:\n",
        "                        cell_text = \"-\" + cell_text\n",
        "\n",
        "            data_row.append(cell_text)\n",
        "\n",
        "        data_list.append(data_row)\n",
        "\n",
        "    return data_list\n"
      ]
    },
    {
      "cell_type": "code",
      "execution_count": 128,
      "metadata": {
        "id": "xjaN9tZ2f7GA"
      },
      "outputs": [],
      "source": [
        "def create_save_to_csv(name,data_list):\n",
        "    df = pd.DataFrame(data_list[1:],columns=data_list[0])\n",
        "    df.to_csv(f\"{name}.csv\",sep=\";\")"
      ]
    },
    {
      "cell_type": "code",
      "execution_count": 129,
      "metadata": {},
      "outputs": [],
      "source": [
        "def create_save_to_csv_assing_cols(name,data_list,cols):\n",
        "    df = pd.DataFrame(data_list,columns=cols)\n",
        "    df.to_csv(f\"{name}.csv\",sep=\";\")"
      ]
    },
    {
      "cell_type": "code",
      "execution_count": 6,
      "metadata": {
        "colab": {
          "base_uri": "https://localhost:8080/"
        },
        "id": "Z8zjIw5qhXk3",
        "outputId": "03568a2d-1fb0-479b-a45d-6dab00dbbf57"
      },
      "outputs": [
        {
          "name": "stderr",
          "output_type": "stream",
          "text": [
            "C:\\Users\\Joseph\\AppData\\Local\\Temp\\ipykernel_19996\\1828452208.py:16: DeprecationWarning: The 'text' argument to find()-type methods is deprecated. Use 'string' instead.\n",
            "  cell_text = ' '.join([text.strip() for text in cell.find_all(text=True)])\n"
          ]
        }
      ],
      "source": [
        "path =\"./CoinMarketCap/01_Meme_v2/1.html\"\n",
        "soup = read_html(path)\n",
        "data_list = process_of_html(soup)\n"
      ]
    },
    {
      "cell_type": "markdown",
      "metadata": {},
      "source": [
        "memes data_raw"
      ]
    },
    {
      "cell_type": "code",
      "execution_count": 9,
      "metadata": {
        "colab": {
          "base_uri": "https://localhost:8080/"
        },
        "id": "wXa1FkJ4dLNY",
        "outputId": "03732374-e772-4738-8af1-3c9d543e53f3"
      },
      "outputs": [
        {
          "name": "stderr",
          "output_type": "stream",
          "text": [
            "C:\\Users\\Joseph\\AppData\\Local\\Temp\\ipykernel_19996\\1828452208.py:16: DeprecationWarning: The 'text' argument to find()-type methods is deprecated. Use 'string' instead.\n",
            "  cell_text = ' '.join([text.strip() for text in cell.find_all(text=True)])\n"
          ]
        }
      ],
      "source": [
        "pathFile = \"./CoinMarketCap/01_Meme_v2\"\n",
        "data_list = []\n",
        "for i in range(1,11):\n",
        "    soup = read_html(f\"{pathFile}/{i}.html\")\n",
        "    data_list += process_of_html(soup)\n",
        "create_save_to_csv(\"data_memes_18042024_coinmarket.csv\",data_list)"
      ]
    },
    {
      "cell_type": "code",
      "execution_count": 13,
      "metadata": {
        "colab": {
          "base_uri": "https://localhost:8080/",
          "height": 206
        },
        "id": "-dUI8eoRjp36",
        "outputId": "ed0291fc-7bfd-4b2c-8aa3-b6e5dd346d15"
      },
      "outputs": [
        {
          "data": {
            "text/html": [
              "<div>\n",
              "<style scoped>\n",
              "    .dataframe tbody tr th:only-of-type {\n",
              "        vertical-align: middle;\n",
              "    }\n",
              "\n",
              "    .dataframe tbody tr th {\n",
              "        vertical-align: top;\n",
              "    }\n",
              "\n",
              "    .dataframe thead th {\n",
              "        text-align: right;\n",
              "    }\n",
              "</style>\n",
              "<table border=\"1\" class=\"dataframe\">\n",
              "  <thead>\n",
              "    <tr style=\"text-align: right;\">\n",
              "      <th></th>\n",
              "      <th>+#</th>\n",
              "      <th>Nombre</th>\n",
              "      <th>Precio</th>\n",
              "      <th>1h %</th>\n",
              "      <th>24 h %</th>\n",
              "      <th>7d %</th>\n",
              "      <th>Cap. de Mercado</th>\n",
              "      <th>Volumen (24h)</th>\n",
              "      <th>Acciones en circulación</th>\n",
              "    </tr>\n",
              "  </thead>\n",
              "  <tbody>\n",
              "    <tr>\n",
              "      <th>0</th>\n",
              "      <td>39</td>\n",
              "      <td>Immutable IMX</td>\n",
              "      <td>$1.98</td>\n",
              "      <td>+0.30%</td>\n",
              "      <td>+4.20%</td>\n",
              "      <td>-22.55%</td>\n",
              "      <td>$2.84B $2,839,201,943</td>\n",
              "      <td>$63,714,307 32,009,998 IMX</td>\n",
              "      <td>1,431,285,079 IMX</td>\n",
              "    </tr>\n",
              "    <tr>\n",
              "      <th>1</th>\n",
              "      <td>61</td>\n",
              "      <td>Beam BEAM</td>\n",
              "      <td>$0.02641</td>\n",
              "      <td>+0.40%</td>\n",
              "      <td>+1.52%</td>\n",
              "      <td>-15.32%</td>\n",
              "      <td>$1.4B $1,398,307,513</td>\n",
              "      <td>$33,173,759 1,253,755,155 BEAM</td>\n",
              "      <td>52,951,176,339 BEAM</td>\n",
              "    </tr>\n",
              "    <tr>\n",
              "      <th>2</th>\n",
              "      <td>63</td>\n",
              "      <td>Gala GALA</td>\n",
              "      <td>$0.04353</td>\n",
              "      <td>+0.50%</td>\n",
              "      <td>+6.30%</td>\n",
              "      <td>-25.74%</td>\n",
              "      <td>$1.33B $1,326,581,964</td>\n",
              "      <td>$185,636,634 4,255,760,776 GALA</td>\n",
              "      <td>30,493,177,498 GALA</td>\n",
              "    </tr>\n",
              "    <tr>\n",
              "      <th>3</th>\n",
              "      <td>64</td>\n",
              "      <td>FLOKI FLOKI</td>\n",
              "      <td>$0.0001382</td>\n",
              "      <td>+0.28%</td>\n",
              "      <td>+1.83%</td>\n",
              "      <td>-28.15%</td>\n",
              "      <td>$1.32B $1,321,986,170</td>\n",
              "      <td>$140,095,291 1,014,302,483,719 FLOKI</td>\n",
              "      <td>9,568,393,313,435 FLOKI</td>\n",
              "    </tr>\n",
              "    <tr>\n",
              "      <th>4</th>\n",
              "      <td>74</td>\n",
              "      <td>MultiversX EGLD</td>\n",
              "      <td>$40.69</td>\n",
              "      <td>+0.48%</td>\n",
              "      <td>+0.89%</td>\n",
              "      <td>-21.31%</td>\n",
              "      <td>$1.09B $1,091,647,933</td>\n",
              "      <td>$25,784,729 634,119 EGLD</td>\n",
              "      <td>26,833,769 EGLD</td>\n",
              "    </tr>\n",
              "  </tbody>\n",
              "</table>\n",
              "</div>"
            ],
            "text/plain": [
              "   +#           Nombre      Precio    1h %  24 h %     7d %  \\\n",
              "0  39    Immutable IMX       $1.98  +0.30%  +4.20%  -22.55%   \n",
              "1  61        Beam BEAM    $0.02641  +0.40%  +1.52%  -15.32%   \n",
              "2  63        Gala GALA    $0.04353  +0.50%  +6.30%  -25.74%   \n",
              "3  64      FLOKI FLOKI  $0.0001382  +0.28%  +1.83%  -28.15%   \n",
              "4  74  MultiversX EGLD      $40.69  +0.48%  +0.89%  -21.31%   \n",
              "\n",
              "         Cap. de Mercado                         Volumen (24h)  \\\n",
              "0  $2.84B $2,839,201,943            $63,714,307 32,009,998 IMX   \n",
              "1   $1.4B $1,398,307,513        $33,173,759 1,253,755,155 BEAM   \n",
              "2  $1.33B $1,326,581,964       $185,636,634 4,255,760,776 GALA   \n",
              "3  $1.32B $1,321,986,170  $140,095,291 1,014,302,483,719 FLOKI   \n",
              "4  $1.09B $1,091,647,933              $25,784,729 634,119 EGLD   \n",
              "\n",
              "   Acciones en circulación  \n",
              "0        1,431,285,079 IMX  \n",
              "1      52,951,176,339 BEAM  \n",
              "2      30,493,177,498 GALA  \n",
              "3  9,568,393,313,435 FLOKI  \n",
              "4          26,833,769 EGLD  "
            ]
          },
          "execution_count": 13,
          "metadata": {},
          "output_type": "execute_result"
        }
      ],
      "source": [
        "df_memes = pd.DataFrame(data_list[1:],columns=data_list[0])\n",
        "df_memes.head()"
      ]
    },
    {
      "cell_type": "markdown",
      "metadata": {},
      "source": [
        "gaming data raw"
      ]
    },
    {
      "cell_type": "code",
      "execution_count": 12,
      "metadata": {},
      "outputs": [
        {
          "name": "stderr",
          "output_type": "stream",
          "text": [
            "C:\\Users\\Joseph\\AppData\\Local\\Temp\\ipykernel_19996\\1828452208.py:16: DeprecationWarning: The 'text' argument to find()-type methods is deprecated. Use 'string' instead.\n",
            "  cell_text = ' '.join([text.strip() for text in cell.find_all(text=True)])\n"
          ]
        }
      ],
      "source": [
        "pathFile = \"./CoinMarketCap/02_Gaming\"\n",
        "data_list = []\n",
        "for i in range(1,5):\n",
        "    soup = read_html(f\"{pathFile}/{i}.html\")\n",
        "    data_list += process_of_html(soup)\n",
        "create_save_to_csv(\"./data/data_raw/data_gaming_18042024_coinmarket.csv\",data_list)"
      ]
    },
    {
      "cell_type": "code",
      "execution_count": 14,
      "metadata": {},
      "outputs": [
        {
          "data": {
            "text/html": [
              "<div>\n",
              "<style scoped>\n",
              "    .dataframe tbody tr th:only-of-type {\n",
              "        vertical-align: middle;\n",
              "    }\n",
              "\n",
              "    .dataframe tbody tr th {\n",
              "        vertical-align: top;\n",
              "    }\n",
              "\n",
              "    .dataframe thead th {\n",
              "        text-align: right;\n",
              "    }\n",
              "</style>\n",
              "<table border=\"1\" class=\"dataframe\">\n",
              "  <thead>\n",
              "    <tr style=\"text-align: right;\">\n",
              "      <th></th>\n",
              "      <th>+#</th>\n",
              "      <th>Nombre</th>\n",
              "      <th>Precio</th>\n",
              "      <th>1h %</th>\n",
              "      <th>24 h %</th>\n",
              "      <th>7d %</th>\n",
              "      <th>Cap. de Mercado</th>\n",
              "      <th>Volumen (24h)</th>\n",
              "      <th>Acciones en circulación</th>\n",
              "    </tr>\n",
              "  </thead>\n",
              "  <tbody>\n",
              "    <tr>\n",
              "      <th>0</th>\n",
              "      <td>39</td>\n",
              "      <td>Immutable IMX</td>\n",
              "      <td>$1.98</td>\n",
              "      <td>+0.30%</td>\n",
              "      <td>+4.20%</td>\n",
              "      <td>-22.55%</td>\n",
              "      <td>$2.84B $2,839,201,943</td>\n",
              "      <td>$63,714,307 32,009,998 IMX</td>\n",
              "      <td>1,431,285,079 IMX</td>\n",
              "    </tr>\n",
              "    <tr>\n",
              "      <th>1</th>\n",
              "      <td>61</td>\n",
              "      <td>Beam BEAM</td>\n",
              "      <td>$0.02641</td>\n",
              "      <td>+0.40%</td>\n",
              "      <td>+1.52%</td>\n",
              "      <td>-15.32%</td>\n",
              "      <td>$1.4B $1,398,307,513</td>\n",
              "      <td>$33,173,759 1,253,755,155 BEAM</td>\n",
              "      <td>52,951,176,339 BEAM</td>\n",
              "    </tr>\n",
              "    <tr>\n",
              "      <th>2</th>\n",
              "      <td>63</td>\n",
              "      <td>Gala GALA</td>\n",
              "      <td>$0.04353</td>\n",
              "      <td>+0.50%</td>\n",
              "      <td>+6.30%</td>\n",
              "      <td>-25.74%</td>\n",
              "      <td>$1.33B $1,326,581,964</td>\n",
              "      <td>$185,636,634 4,255,760,776 GALA</td>\n",
              "      <td>30,493,177,498 GALA</td>\n",
              "    </tr>\n",
              "    <tr>\n",
              "      <th>3</th>\n",
              "      <td>64</td>\n",
              "      <td>FLOKI FLOKI</td>\n",
              "      <td>$0.0001382</td>\n",
              "      <td>+0.28%</td>\n",
              "      <td>+1.83%</td>\n",
              "      <td>-28.15%</td>\n",
              "      <td>$1.32B $1,321,986,170</td>\n",
              "      <td>$140,095,291 1,014,302,483,719 FLOKI</td>\n",
              "      <td>9,568,393,313,435 FLOKI</td>\n",
              "    </tr>\n",
              "    <tr>\n",
              "      <th>4</th>\n",
              "      <td>74</td>\n",
              "      <td>MultiversX EGLD</td>\n",
              "      <td>$40.69</td>\n",
              "      <td>+0.48%</td>\n",
              "      <td>+0.89%</td>\n",
              "      <td>-21.31%</td>\n",
              "      <td>$1.09B $1,091,647,933</td>\n",
              "      <td>$25,784,729 634,119 EGLD</td>\n",
              "      <td>26,833,769 EGLD</td>\n",
              "    </tr>\n",
              "  </tbody>\n",
              "</table>\n",
              "</div>"
            ],
            "text/plain": [
              "   +#           Nombre      Precio    1h %  24 h %     7d %  \\\n",
              "0  39    Immutable IMX       $1.98  +0.30%  +4.20%  -22.55%   \n",
              "1  61        Beam BEAM    $0.02641  +0.40%  +1.52%  -15.32%   \n",
              "2  63        Gala GALA    $0.04353  +0.50%  +6.30%  -25.74%   \n",
              "3  64      FLOKI FLOKI  $0.0001382  +0.28%  +1.83%  -28.15%   \n",
              "4  74  MultiversX EGLD      $40.69  +0.48%  +0.89%  -21.31%   \n",
              "\n",
              "         Cap. de Mercado                         Volumen (24h)  \\\n",
              "0  $2.84B $2,839,201,943            $63,714,307 32,009,998 IMX   \n",
              "1   $1.4B $1,398,307,513        $33,173,759 1,253,755,155 BEAM   \n",
              "2  $1.33B $1,326,581,964       $185,636,634 4,255,760,776 GALA   \n",
              "3  $1.32B $1,321,986,170  $140,095,291 1,014,302,483,719 FLOKI   \n",
              "4  $1.09B $1,091,647,933              $25,784,729 634,119 EGLD   \n",
              "\n",
              "   Acciones en circulación  \n",
              "0        1,431,285,079 IMX  \n",
              "1      52,951,176,339 BEAM  \n",
              "2      30,493,177,498 GALA  \n",
              "3  9,568,393,313,435 FLOKI  \n",
              "4          26,833,769 EGLD  "
            ]
          },
          "execution_count": 14,
          "metadata": {},
          "output_type": "execute_result"
        }
      ],
      "source": [
        "df_gaming = pd.DataFrame(data_list[1:],columns=data_list[0])\n",
        "df_gaming.head()"
      ]
    },
    {
      "cell_type": "code",
      "execution_count": 130,
      "metadata": {},
      "outputs": [
        {
          "name": "stderr",
          "output_type": "stream",
          "text": [
            "C:\\Users\\Joseph\\AppData\\Local\\Temp\\ipykernel_13668\\2571514576.py:16: DeprecationWarning: The 'text' argument to find()-type methods is deprecated. Use 'string' instead.\n",
            "  cell_text = ' '.join([text.strip() for text in cell.find_all(text=True)])\n"
          ]
        }
      ],
      "source": [
        "pathFile = \"./CoinMarketCap/03_AI\"\n",
        "data_list = []\n",
        "for i in range(2,4):\n",
        "    soup = read_html(f\"{pathFile}/{i}.html\")\n",
        "    data_list += process_of_html(soup)\n",
        "create_save_to_csv(\"./data/data_raw/data_ai_18042024_coinmarket.csv\",data_list)"
      ]
    },
    {
      "cell_type": "code",
      "execution_count": 131,
      "metadata": {},
      "outputs": [
        {
          "data": {
            "text/html": [
              "<div>\n",
              "<style scoped>\n",
              "    .dataframe tbody tr th:only-of-type {\n",
              "        vertical-align: middle;\n",
              "    }\n",
              "\n",
              "    .dataframe tbody tr th {\n",
              "        vertical-align: top;\n",
              "    }\n",
              "\n",
              "    .dataframe thead th {\n",
              "        text-align: right;\n",
              "    }\n",
              "</style>\n",
              "<table border=\"1\" class=\"dataframe\">\n",
              "  <thead>\n",
              "    <tr style=\"text-align: right;\">\n",
              "      <th></th>\n",
              "      <th>+#</th>\n",
              "      <th>Nombre</th>\n",
              "      <th>Precio</th>\n",
              "      <th>1h %</th>\n",
              "      <th>24 h %</th>\n",
              "      <th>7d %</th>\n",
              "      <th>Cap. de Mercado</th>\n",
              "      <th>Volumen (24h)</th>\n",
              "      <th>Acciones en circulación</th>\n",
              "    </tr>\n",
              "  </thead>\n",
              "  <tbody>\n",
              "    <tr>\n",
              "      <th>0</th>\n",
              "      <td>1050</td>\n",
              "      <td>Robonomics.network XRT</td>\n",
              "      <td>$6.54</td>\n",
              "      <td>+0.37%</td>\n",
              "      <td>+0.56%</td>\n",
              "      <td>-23.40%</td>\n",
              "      <td>$10.89M $10,888,512</td>\n",
              "      <td>$30,861 4,720 XRT</td>\n",
              "      <td>1,665,451 XRT</td>\n",
              "    </tr>\n",
              "    <tr>\n",
              "      <th>1</th>\n",
              "      <td>1057</td>\n",
              "      <td>SENATE SENATE</td>\n",
              "      <td>$0.096</td>\n",
              "      <td>-0.19%</td>\n",
              "      <td>+0.50%</td>\n",
              "      <td>-21.22%</td>\n",
              "      <td>$10.54M $10,544,140</td>\n",
              "      <td>$79,786 831,180 SENATE</td>\n",
              "      <td>109,822,392 SENATE</td>\n",
              "    </tr>\n",
              "    <tr>\n",
              "      <th>2</th>\n",
              "      <td>1056</td>\n",
              "      <td>Big Data Protocol BDP</td>\n",
              "      <td>$0.2017</td>\n",
              "      <td>+0.35%</td>\n",
              "      <td>+0.14%</td>\n",
              "      <td>-20.36%</td>\n",
              "      <td>$10.52M $10,522,378</td>\n",
              "      <td>$248,287 1,230,849 BDP</td>\n",
              "      <td>52,278,856 BDP</td>\n",
              "    </tr>\n",
              "    <tr>\n",
              "      <th>3</th>\n",
              "      <td>1058</td>\n",
              "      <td>PIBBLE PIB</td>\n",
              "      <td>$0.0004805</td>\n",
              "      <td>-0.50%</td>\n",
              "      <td>-3.22%</td>\n",
              "      <td>-23.71%</td>\n",
              "      <td>$10.52M $10,515,630</td>\n",
              "      <td>$245,007 509,929,289 PIB</td>\n",
              "      <td>21,913,860,893 PIB</td>\n",
              "    </tr>\n",
              "    <tr>\n",
              "      <th>4</th>\n",
              "      <td>1064</td>\n",
              "      <td>Ooki Protocol OOKI</td>\n",
              "      <td>$0.002281</td>\n",
              "      <td>+0.02%</td>\n",
              "      <td>-0.75%</td>\n",
              "      <td>-29.57%</td>\n",
              "      <td>$10.38M $10,377,404</td>\n",
              "      <td>$2,687,294 1,178,281,586 OOKI</td>\n",
              "      <td>4,558,586,607 OOKI</td>\n",
              "    </tr>\n",
              "  </tbody>\n",
              "</table>\n",
              "</div>"
            ],
            "text/plain": [
              "     +#                  Nombre      Precio    1h %  24 h %     7d %  \\\n",
              "0  1050  Robonomics.network XRT       $6.54  +0.37%  +0.56%  -23.40%   \n",
              "1  1057           SENATE SENATE      $0.096  -0.19%  +0.50%  -21.22%   \n",
              "2  1056   Big Data Protocol BDP     $0.2017  +0.35%  +0.14%  -20.36%   \n",
              "3  1058              PIBBLE PIB  $0.0004805  -0.50%  -3.22%  -23.71%   \n",
              "4  1064      Ooki Protocol OOKI   $0.002281  +0.02%  -0.75%  -29.57%   \n",
              "\n",
              "       Cap. de Mercado                  Volumen (24h) Acciones en circulación  \n",
              "0  $10.89M $10,888,512              $30,861 4,720 XRT           1,665,451 XRT  \n",
              "1  $10.54M $10,544,140         $79,786 831,180 SENATE      109,822,392 SENATE  \n",
              "2  $10.52M $10,522,378         $248,287 1,230,849 BDP          52,278,856 BDP  \n",
              "3  $10.52M $10,515,630       $245,007 509,929,289 PIB      21,913,860,893 PIB  \n",
              "4  $10.38M $10,377,404  $2,687,294 1,178,281,586 OOKI      4,558,586,607 OOKI  "
            ]
          },
          "execution_count": 131,
          "metadata": {},
          "output_type": "execute_result"
        }
      ],
      "source": [
        "df_ai = pd.DataFrame(data_list[1:],columns=data_list[0])\n",
        "df_ai.head()"
      ]
    },
    {
      "cell_type": "code",
      "execution_count": 35,
      "metadata": {},
      "outputs": [],
      "source": [
        "COLS = df_ai.columns"
      ]
    },
    {
      "cell_type": "markdown",
      "metadata": {
        "id": "MIiKB3lrpTjX"
      },
      "source": [
        "# Portafolios of Walles\n"
      ]
    },
    {
      "cell_type": "markdown",
      "metadata": {
        "id": "U3-yuls_pYQo"
      },
      "source": [
        "litelemnte lo mismo asiq ue solo tenemos que descargar los datos"
      ]
    },
    {
      "cell_type": "code",
      "execution_count": 1,
      "metadata": {
        "id": "5y5m51FGpX0f"
      },
      "outputs": [],
      "source": [
        "import os\n",
        "from pathlib import Path\n"
      ]
    },
    {
      "cell_type": "code",
      "execution_count": null,
      "metadata": {},
      "outputs": [],
      "source": [
        "folder_path = \"./CoinMarketCap/Portfolio/\"\n",
        "html_files = list(Path(folder_path).glob(\"*.html\"))\n",
        "filtered_files = [file.name for file in html_files ]"
      ]
    },
    {
      "cell_type": "code",
      "execution_count": 79,
      "metadata": {},
      "outputs": [
        {
          "data": {
            "text/plain": [
              "'CMS Holdings'"
            ]
          },
          "execution_count": 79,
          "metadata": {},
          "output_type": "execute_result"
        }
      ],
      "source": [
        "filtered_files[4][4:-63]"
      ]
    },
    {
      "cell_type": "code",
      "execution_count": 84,
      "metadata": {},
      "outputs": [
        {
          "name": "stderr",
          "output_type": "stream",
          "text": [
            "C:\\Users\\Joseph\\AppData\\Local\\Temp\\ipykernel_19996\\1828452208.py:16: DeprecationWarning: The 'text' argument to find()-type methods is deprecated. Use 'string' instead.\n",
            "  cell_text = ' '.join([text.strip() for text in cell.find_all(text=True)])\n"
          ]
        }
      ],
      "source": [
        "for file in filtered_files:\n",
        "    soup = read_html(f\"{folder_path}/{file}\")\n",
        "    data_list = process_of_html(soup)\n",
        "    create_save_to_csv_assing_cols(f\"./data/data_raw/walles/{file[4:-63]}\",data_list,COLS)"
      ]
    },
    {
      "cell_type": "code",
      "execution_count": 90,
      "metadata": {},
      "outputs": [],
      "source": [
        "folder_path_PLAY_TO_EARN = \"./CoinMarketCap/Portfolio/PLAY_TO_EARN\"\n",
        "html_files_PLAY_TO_EARN = list(Path(folder_path_PLAY_TO_EARN).glob(\"*.html\"))\n",
        "filtered_files_PLAY_TO_EARN = [file.name for file in html_files_PLAY_TO_EARN ]"
      ]
    },
    {
      "cell_type": "code",
      "execution_count": 91,
      "metadata": {},
      "outputs": [
        {
          "data": {
            "text/plain": [
              "['Top Play To Earn Tokens by Market Capitalization - Page 2 _ CoinMarketCap.html',\n",
              " 'Top Play To Earn Tokens by Market Capitalization - Page 3 _ CoinMarketCap.html',\n",
              " 'Top Play To Earn Tokens by Market Capitalization - Page 4 _ CoinMarketCap.html',\n",
              " 'Top Play To Earn Tokens by Market Capitalization _ CoinMarketCap.html']"
            ]
          },
          "execution_count": 91,
          "metadata": {},
          "output_type": "execute_result"
        }
      ],
      "source": [
        "filtered_files_PLAY_TO_EARN"
      ]
    },
    {
      "cell_type": "code",
      "execution_count": 92,
      "metadata": {},
      "outputs": [
        {
          "name": "stderr",
          "output_type": "stream",
          "text": [
            "C:\\Users\\Joseph\\AppData\\Local\\Temp\\ipykernel_19996\\1828452208.py:16: DeprecationWarning: The 'text' argument to find()-type methods is deprecated. Use 'string' instead.\n",
            "  cell_text = ' '.join([text.strip() for text in cell.find_all(text=True)])\n"
          ]
        }
      ],
      "source": [
        "data_list=[]\n",
        "for files  in filtered_files_PLAY_TO_EARN:\n",
        "    soup = read_html(f\"{folder_path_PLAY_TO_EARN}/{files}\")\n",
        "    data_list += process_of_html(soup)\n",
        "create_save_to_csv_assing_cols(f\"./data/data_raw/Play_To_Earn\",data_list,COLS)"
      ]
    },
    {
      "cell_type": "markdown",
      "metadata": {
        "id": "8xFAUMHjmZIq"
      },
      "source": [
        "## Data about Token on Market at CoinMarketCap"
      ]
    },
    {
      "cell_type": "code",
      "execution_count": 38,
      "metadata": {},
      "outputs": [
        {
          "name": "stderr",
          "output_type": "stream",
          "text": [
            "C:\\Users\\Joseph\\AppData\\Local\\Temp\\ipykernel_19996\\1828452208.py:16: DeprecationWarning: The 'text' argument to find()-type methods is deprecated. Use 'string' instead.\n",
            "  cell_text = ' '.join([text.strip() for text in cell.find_all(text=True)])\n"
          ]
        }
      ],
      "source": [
        "pathFile = \"./CoinMarketCap/05_token_tron\"\n",
        "soup = read_html(f\"{pathFile}/{1}.html\")\n",
        "data_list = process_of_html(soup)\n",
        "create_save_to_csv_assing_cols(\"./data/data_raw/data_token_tron_18042024_coinmarket.csv\",data_list,COLS)"
      ]
    },
    {
      "cell_type": "code",
      "execution_count": 39,
      "metadata": {},
      "outputs": [
        {
          "data": {
            "text/html": [
              "<div>\n",
              "<style scoped>\n",
              "    .dataframe tbody tr th:only-of-type {\n",
              "        vertical-align: middle;\n",
              "    }\n",
              "\n",
              "    .dataframe tbody tr th {\n",
              "        vertical-align: top;\n",
              "    }\n",
              "\n",
              "    .dataframe thead th {\n",
              "        text-align: right;\n",
              "    }\n",
              "</style>\n",
              "<table border=\"1\" class=\"dataframe\">\n",
              "  <thead>\n",
              "    <tr style=\"text-align: right;\">\n",
              "      <th></th>\n",
              "      <th>+#</th>\n",
              "      <th>Nombre</th>\n",
              "      <th>Precio</th>\n",
              "      <th>1h %</th>\n",
              "      <th>24 h %</th>\n",
              "      <th>7d %</th>\n",
              "      <th>Cap. de Mercado</th>\n",
              "      <th>Volumen (24h)</th>\n",
              "      <th>Acciones en circulación</th>\n",
              "    </tr>\n",
              "  </thead>\n",
              "  <tbody>\n",
              "    <tr>\n",
              "      <th>0</th>\n",
              "      <td>15</td>\n",
              "      <td>TRON TRX</td>\n",
              "      <td>$0.1093</td>\n",
              "      <td>+0.13%</td>\n",
              "      <td>-0.78%</td>\n",
              "      <td>-9.29%</td>\n",
              "      <td>$9.57B $9,573,535,449</td>\n",
              "      <td>$358,122,084 3,278,392,430 TRX</td>\n",
              "      <td>87,611,180,280 TRX</td>\n",
              "    </tr>\n",
              "    <tr>\n",
              "      <th>1</th>\n",
              "      <td>72</td>\n",
              "      <td>BitTorrent (New) BTT</td>\n",
              "      <td>$0.000001283</td>\n",
              "      <td>+0.45%</td>\n",
              "      <td>+2.23%</td>\n",
              "      <td>-15.94%</td>\n",
              "      <td>$1.24B $1,242,574,748</td>\n",
              "      <td>$38,642,426 30,300,939,896,719 BTT</td>\n",
              "      <td>968,246,428,571,000 BTT</td>\n",
              "    </tr>\n",
              "    <tr>\n",
              "      <th>2</th>\n",
              "      <td>144</td>\n",
              "      <td>APENFT NFT</td>\n",
              "      <td>$0.0...04514</td>\n",
              "      <td>-0.03%</td>\n",
              "      <td>-0.59%</td>\n",
              "      <td>-15.54%</td>\n",
              "      <td>$446.93M $446,933,404</td>\n",
              "      <td>$24,365,459 53,935,273,537,933 NFT</td>\n",
              "      <td>990,105,682,877,398 NFT</td>\n",
              "    </tr>\n",
              "    <tr>\n",
              "      <th>3</th>\n",
              "      <td>200</td>\n",
              "      <td>JUST JST</td>\n",
              "      <td>$0.03251</td>\n",
              "      <td>+0.06%</td>\n",
              "      <td>+1.56%</td>\n",
              "      <td>-24.68%</td>\n",
              "      <td>$289.39M $289,388,185</td>\n",
              "      <td>$33,364,670 1,024,311,669 JST</td>\n",
              "      <td>8,902,080,000 JST</td>\n",
              "    </tr>\n",
              "    <tr>\n",
              "      <th>4</th>\n",
              "      <td>353</td>\n",
              "      <td>Sun (New) SUN</td>\n",
              "      <td>$0.0136</td>\n",
              "      <td>+0.06%</td>\n",
              "      <td>+1.10%</td>\n",
              "      <td>-10.91%</td>\n",
              "      <td>$134.77M $134,769,440</td>\n",
              "      <td>$24,084,433 1,771,847,061 SUN</td>\n",
              "      <td>9,908,522,472 SUN</td>\n",
              "    </tr>\n",
              "  </tbody>\n",
              "</table>\n",
              "</div>"
            ],
            "text/plain": [
              "    +#                Nombre        Precio    1h %  24 h %     7d %  \\\n",
              "0   15              TRON TRX       $0.1093  +0.13%  -0.78%   -9.29%   \n",
              "1   72  BitTorrent (New) BTT  $0.000001283  +0.45%  +2.23%  -15.94%   \n",
              "2  144            APENFT NFT  $0.0...04514  -0.03%  -0.59%  -15.54%   \n",
              "3  200              JUST JST      $0.03251  +0.06%  +1.56%  -24.68%   \n",
              "4  353         Sun (New) SUN       $0.0136  +0.06%  +1.10%  -10.91%   \n",
              "\n",
              "         Cap. de Mercado                       Volumen (24h)  \\\n",
              "0  $9.57B $9,573,535,449      $358,122,084 3,278,392,430 TRX   \n",
              "1  $1.24B $1,242,574,748  $38,642,426 30,300,939,896,719 BTT   \n",
              "2  $446.93M $446,933,404  $24,365,459 53,935,273,537,933 NFT   \n",
              "3  $289.39M $289,388,185       $33,364,670 1,024,311,669 JST   \n",
              "4  $134.77M $134,769,440       $24,084,433 1,771,847,061 SUN   \n",
              "\n",
              "   Acciones en circulación  \n",
              "0       87,611,180,280 TRX  \n",
              "1  968,246,428,571,000 BTT  \n",
              "2  990,105,682,877,398 NFT  \n",
              "3        8,902,080,000 JST  \n",
              "4        9,908,522,472 SUN  "
            ]
          },
          "execution_count": 39,
          "metadata": {},
          "output_type": "execute_result"
        }
      ],
      "source": [
        "df_TRON_TOKENS = pd.DataFrame(data_list,columns=COLS)\n",
        "df_TRON_TOKENS.head()"
      ]
    },
    {
      "cell_type": "code",
      "execution_count": 40,
      "metadata": {},
      "outputs": [
        {
          "name": "stderr",
          "output_type": "stream",
          "text": [
            "C:\\Users\\Joseph\\AppData\\Local\\Temp\\ipykernel_19996\\1828452208.py:16: DeprecationWarning: The 'text' argument to find()-type methods is deprecated. Use 'string' instead.\n",
            "  cell_text = ' '.join([text.strip() for text in cell.find_all(text=True)])\n"
          ]
        }
      ],
      "source": [
        "pathFile = \"./CoinMarketCap/06_token_solana\"\n",
        "data_list = []\n",
        "for i in range(1,4):\n",
        "    soup = read_html(f\"{pathFile}/{i}.html\")\n",
        "    data_list += process_of_html(soup)\n",
        "create_save_to_csv_assing_cols(\"./data/data_raw/data_SOLANA_TOKEN_18042024_coinmarket.csv\",data_list,COLS)\n"
      ]
    },
    {
      "cell_type": "code",
      "execution_count": 41,
      "metadata": {},
      "outputs": [
        {
          "data": {
            "text/html": [
              "<div>\n",
              "<style scoped>\n",
              "    .dataframe tbody tr th:only-of-type {\n",
              "        vertical-align: middle;\n",
              "    }\n",
              "\n",
              "    .dataframe tbody tr th {\n",
              "        vertical-align: top;\n",
              "    }\n",
              "\n",
              "    .dataframe thead th {\n",
              "        text-align: right;\n",
              "    }\n",
              "</style>\n",
              "<table border=\"1\" class=\"dataframe\">\n",
              "  <thead>\n",
              "    <tr style=\"text-align: right;\">\n",
              "      <th></th>\n",
              "      <th>+#</th>\n",
              "      <th>Nombre</th>\n",
              "      <th>Precio</th>\n",
              "      <th>1h %</th>\n",
              "      <th>24 h %</th>\n",
              "      <th>7d %</th>\n",
              "      <th>Cap. de Mercado</th>\n",
              "      <th>Volumen (24h)</th>\n",
              "      <th>Acciones en circulación</th>\n",
              "    </tr>\n",
              "  </thead>\n",
              "  <tbody>\n",
              "    <tr>\n",
              "      <th>0</th>\n",
              "      <td>3</td>\n",
              "      <td>Tether USDT</td>\n",
              "      <td>$1.00</td>\n",
              "      <td>+0.00%</td>\n",
              "      <td>+0.03%</td>\n",
              "      <td>+0.01%</td>\n",
              "      <td>$109.08B $109,079,083,585</td>\n",
              "      <td>$63,832,217,418 63,808,278,024 USDT</td>\n",
              "      <td>109,031,963,305 USDT</td>\n",
              "    </tr>\n",
              "    <tr>\n",
              "      <th>1</th>\n",
              "      <td>5</td>\n",
              "      <td>Solana SOL</td>\n",
              "      <td>$143.23</td>\n",
              "      <td>+1.54%</td>\n",
              "      <td>+6.41%</td>\n",
              "      <td>-17.18%</td>\n",
              "      <td>$64B $63,997,804,878</td>\n",
              "      <td>$4,168,610,669 29,592,771 SOL</td>\n",
              "      <td>446,820,711 SOL</td>\n",
              "    </tr>\n",
              "    <tr>\n",
              "      <th>2</th>\n",
              "      <td>16</td>\n",
              "      <td>Chainlink LINK</td>\n",
              "      <td>$13.94</td>\n",
              "      <td>+0.92%</td>\n",
              "      <td>+5.20%</td>\n",
              "      <td>-20.39%</td>\n",
              "      <td>$8.18B $8,181,603,330</td>\n",
              "      <td>$348,269,542 25,145,916 LINK</td>\n",
              "      <td>587,099,970 LINK</td>\n",
              "    </tr>\n",
              "    <tr>\n",
              "      <th>3</th>\n",
              "      <td>36</td>\n",
              "      <td>Render RNDR</td>\n",
              "      <td>$7.96</td>\n",
              "      <td>+0.75%</td>\n",
              "      <td>+2.56%</td>\n",
              "      <td>-11.57%</td>\n",
              "      <td>$3.06B $3,058,359,236</td>\n",
              "      <td>$170,059,260 21,608,345 RNDR</td>\n",
              "      <td>384,361,224 RNDR</td>\n",
              "    </tr>\n",
              "    <tr>\n",
              "      <th>4</th>\n",
              "      <td>43</td>\n",
              "      <td>dogwifhat WIF</td>\n",
              "      <td>$2.58</td>\n",
              "      <td>-0.02%</td>\n",
              "      <td>+4.81%</td>\n",
              "      <td>-25.91%</td>\n",
              "      <td>$2.58B $2,576,313,532</td>\n",
              "      <td>$483,413,174 188,725,895 WIF</td>\n",
              "      <td>998,906,170 WIF</td>\n",
              "    </tr>\n",
              "  </tbody>\n",
              "</table>\n",
              "</div>"
            ],
            "text/plain": [
              "   +#          Nombre   Precio    1h %  24 h %     7d %  \\\n",
              "0   3     Tether USDT    $1.00  +0.00%  +0.03%   +0.01%   \n",
              "1   5      Solana SOL  $143.23  +1.54%  +6.41%  -17.18%   \n",
              "2  16  Chainlink LINK   $13.94  +0.92%  +5.20%  -20.39%   \n",
              "3  36     Render RNDR    $7.96  +0.75%  +2.56%  -11.57%   \n",
              "4  43   dogwifhat WIF    $2.58  -0.02%  +4.81%  -25.91%   \n",
              "\n",
              "             Cap. de Mercado                        Volumen (24h)  \\\n",
              "0  $109.08B $109,079,083,585  $63,832,217,418 63,808,278,024 USDT   \n",
              "1       $64B $63,997,804,878        $4,168,610,669 29,592,771 SOL   \n",
              "2      $8.18B $8,181,603,330         $348,269,542 25,145,916 LINK   \n",
              "3      $3.06B $3,058,359,236         $170,059,260 21,608,345 RNDR   \n",
              "4      $2.58B $2,576,313,532         $483,413,174 188,725,895 WIF   \n",
              "\n",
              "  Acciones en circulación  \n",
              "0    109,031,963,305 USDT  \n",
              "1         446,820,711 SOL  \n",
              "2        587,099,970 LINK  \n",
              "3        384,361,224 RNDR  \n",
              "4         998,906,170 WIF  "
            ]
          },
          "execution_count": 41,
          "metadata": {},
          "output_type": "execute_result"
        }
      ],
      "source": [
        "df_SOLANA_TOKENS = pd.DataFrame(data_list,columns=COLS)\n",
        "df_SOLANA_TOKENS.head()"
      ]
    },
    {
      "cell_type": "code",
      "execution_count": 44,
      "metadata": {},
      "outputs": [
        {
          "name": "stderr",
          "output_type": "stream",
          "text": [
            "C:\\Users\\Joseph\\AppData\\Local\\Temp\\ipykernel_19996\\1828452208.py:16: DeprecationWarning: The 'text' argument to find()-type methods is deprecated. Use 'string' instead.\n",
            "  cell_text = ' '.join([text.strip() for text in cell.find_all(text=True)])\n"
          ]
        }
      ],
      "source": [
        "pathFile = \"./CoinMarketCap/07_cardano\"\n",
        "soup = read_html(f\"{pathFile}/{1}.html\")\n",
        "data_list = process_of_html(soup)\n",
        "create_save_to_csv_assing_cols(\"./data/data_raw/data_CARDANO_TOKEN_18042024_coinmarket.csv\",data_list,COLS)"
      ]
    },
    {
      "cell_type": "code",
      "execution_count": 45,
      "metadata": {},
      "outputs": [
        {
          "data": {
            "text/html": [
              "<div>\n",
              "<style scoped>\n",
              "    .dataframe tbody tr th:only-of-type {\n",
              "        vertical-align: middle;\n",
              "    }\n",
              "\n",
              "    .dataframe tbody tr th {\n",
              "        vertical-align: top;\n",
              "    }\n",
              "\n",
              "    .dataframe thead th {\n",
              "        text-align: right;\n",
              "    }\n",
              "</style>\n",
              "<table border=\"1\" class=\"dataframe\">\n",
              "  <thead>\n",
              "    <tr style=\"text-align: right;\">\n",
              "      <th></th>\n",
              "      <th>+#</th>\n",
              "      <th>Nombre</th>\n",
              "      <th>Precio</th>\n",
              "      <th>1h %</th>\n",
              "      <th>24 h %</th>\n",
              "      <th>7d %</th>\n",
              "      <th>Cap. de Mercado</th>\n",
              "      <th>Volumen (24h)</th>\n",
              "      <th>Acciones en circulación</th>\n",
              "    </tr>\n",
              "  </thead>\n",
              "  <tbody>\n",
              "    <tr>\n",
              "      <th>0</th>\n",
              "      <td>10</td>\n",
              "      <td>Cardano ADA</td>\n",
              "      <td>$0.4589</td>\n",
              "      <td>+0.48%</td>\n",
              "      <td>-2.47%</td>\n",
              "      <td>-21.77%</td>\n",
              "      <td>$16.35B $16,345,725,477</td>\n",
              "      <td>$412,004,534 913,807,158 ADA</td>\n",
              "      <td>35,622,646,899 ADA</td>\n",
              "    </tr>\n",
              "    <tr>\n",
              "      <th>1</th>\n",
              "      <td>16</td>\n",
              "      <td>Chainlink LINK</td>\n",
              "      <td>$13.94</td>\n",
              "      <td>+0.94%</td>\n",
              "      <td>+5.17%</td>\n",
              "      <td>-20.40%</td>\n",
              "      <td>$8.18B $8,181,654,584</td>\n",
              "      <td>$348,658,659 25,583,752 LINK</td>\n",
              "      <td>587,099,970 LINK</td>\n",
              "    </tr>\n",
              "    <tr>\n",
              "      <th>2</th>\n",
              "      <td>75</td>\n",
              "      <td>SingularityNET AGIX</td>\n",
              "      <td>$0.8462</td>\n",
              "      <td>-0.10%</td>\n",
              "      <td>+3.63%</td>\n",
              "      <td>-18.38%</td>\n",
              "      <td>$1.08B $1,084,851,267</td>\n",
              "      <td>$98,541,964 117,245,417 AGIX</td>\n",
              "      <td>1,282,094,972 AGIX</td>\n",
              "    </tr>\n",
              "    <tr>\n",
              "      <th>3</th>\n",
              "      <td>106</td>\n",
              "      <td>Nexo NEXO</td>\n",
              "      <td>$1.21</td>\n",
              "      <td>-0.77%</td>\n",
              "      <td>+0.11%</td>\n",
              "      <td>-15.11%</td>\n",
              "      <td>$679.54M $679,542,782</td>\n",
              "      <td>$4,809,255 3,943,825 NEXO</td>\n",
              "      <td>560,000,011 NEXO</td>\n",
              "    </tr>\n",
              "    <tr>\n",
              "      <th>4</th>\n",
              "      <td>280</td>\n",
              "      <td>API3 API3</td>\n",
              "      <td>$2.32</td>\n",
              "      <td>+0.06%</td>\n",
              "      <td>+2.04%</td>\n",
              "      <td>-27.34%</td>\n",
              "      <td>$200.48M $200,476,023</td>\n",
              "      <td>$11,347,763 4,974,037 API3</td>\n",
              "      <td>86,421,978 API3</td>\n",
              "    </tr>\n",
              "  </tbody>\n",
              "</table>\n",
              "</div>"
            ],
            "text/plain": [
              "    +#               Nombre   Precio    1h %  24 h %     7d %  \\\n",
              "0   10          Cardano ADA  $0.4589  +0.48%  -2.47%  -21.77%   \n",
              "1   16       Chainlink LINK   $13.94  +0.94%  +5.17%  -20.40%   \n",
              "2   75  SingularityNET AGIX  $0.8462  -0.10%  +3.63%  -18.38%   \n",
              "3  106            Nexo NEXO    $1.21  -0.77%  +0.11%  -15.11%   \n",
              "4  280            API3 API3    $2.32  +0.06%  +2.04%  -27.34%   \n",
              "\n",
              "           Cap. de Mercado                 Volumen (24h)  \\\n",
              "0  $16.35B $16,345,725,477  $412,004,534 913,807,158 ADA   \n",
              "1    $8.18B $8,181,654,584  $348,658,659 25,583,752 LINK   \n",
              "2    $1.08B $1,084,851,267  $98,541,964 117,245,417 AGIX   \n",
              "3    $679.54M $679,542,782     $4,809,255 3,943,825 NEXO   \n",
              "4    $200.48M $200,476,023    $11,347,763 4,974,037 API3   \n",
              "\n",
              "  Acciones en circulación  \n",
              "0      35,622,646,899 ADA  \n",
              "1        587,099,970 LINK  \n",
              "2      1,282,094,972 AGIX  \n",
              "3        560,000,011 NEXO  \n",
              "4         86,421,978 API3  "
            ]
          },
          "execution_count": 45,
          "metadata": {},
          "output_type": "execute_result"
        }
      ],
      "source": [
        "df_CARDANO_TOKEN = pd.DataFrame(data_list,columns=COLS)\n",
        "df_CARDANO_TOKEN.head()"
      ]
    },
    {
      "cell_type": "code",
      "execution_count": 47,
      "metadata": {},
      "outputs": [
        {
          "name": "stderr",
          "output_type": "stream",
          "text": [
            "C:\\Users\\Joseph\\AppData\\Local\\Temp\\ipykernel_19996\\1828452208.py:16: DeprecationWarning: The 'text' argument to find()-type methods is deprecated. Use 'string' instead.\n",
            "  cell_text = ' '.join([text.strip() for text in cell.find_all(text=True)])\n"
          ]
        }
      ],
      "source": [
        "pathFile = \"./CoinMarketCap/08_etherium\"\n",
        "data_list = []\n",
        "for i in range(1,4):\n",
        "    soup = read_html(f\"{pathFile}/{i}.html\")\n",
        "    data_list += process_of_html(soup)\n",
        "create_save_to_csv_assing_cols(\"./data/data_raw/data_ETHERIUM_TOKEN_18042024_coinmarket.csv\",data_list,COLS)"
      ]
    },
    {
      "cell_type": "code",
      "execution_count": 48,
      "metadata": {},
      "outputs": [
        {
          "data": {
            "text/html": [
              "<div>\n",
              "<style scoped>\n",
              "    .dataframe tbody tr th:only-of-type {\n",
              "        vertical-align: middle;\n",
              "    }\n",
              "\n",
              "    .dataframe tbody tr th {\n",
              "        vertical-align: top;\n",
              "    }\n",
              "\n",
              "    .dataframe thead th {\n",
              "        text-align: right;\n",
              "    }\n",
              "</style>\n",
              "<table border=\"1\" class=\"dataframe\">\n",
              "  <thead>\n",
              "    <tr style=\"text-align: right;\">\n",
              "      <th></th>\n",
              "      <th>+#</th>\n",
              "      <th>Nombre</th>\n",
              "      <th>Precio</th>\n",
              "      <th>1h %</th>\n",
              "      <th>24 h %</th>\n",
              "      <th>7d %</th>\n",
              "      <th>Cap. de Mercado</th>\n",
              "      <th>Volumen (24h)</th>\n",
              "      <th>Acciones en circulación</th>\n",
              "    </tr>\n",
              "  </thead>\n",
              "  <tbody>\n",
              "    <tr>\n",
              "      <th>0</th>\n",
              "      <td>2</td>\n",
              "      <td>Ethereum ETH</td>\n",
              "      <td>$3,072.44</td>\n",
              "      <td>-0.25%</td>\n",
              "      <td>+2.07%</td>\n",
              "      <td>-12.49%</td>\n",
              "      <td>$368.91B $368,914,197,986</td>\n",
              "      <td>$15,340,418,124 5,003,070 ETH</td>\n",
              "      <td>120,072,117 ETH</td>\n",
              "    </tr>\n",
              "    <tr>\n",
              "      <th>1</th>\n",
              "      <td>11</td>\n",
              "      <td>Shiba Inu SHIB</td>\n",
              "      <td>$0.00002285</td>\n",
              "      <td>+0.17%</td>\n",
              "      <td>+2.72%</td>\n",
              "      <td>-17.19%</td>\n",
              "      <td>$13.47B $13,467,725,316</td>\n",
              "      <td>$467,017,415 20,485,132,680,649 SHIB</td>\n",
              "      <td>589,289,410,812,691 SHIB</td>\n",
              "    </tr>\n",
              "    <tr>\n",
              "      <th>2</th>\n",
              "      <td>22</td>\n",
              "      <td>Dai DAI</td>\n",
              "      <td>$0.9999</td>\n",
              "      <td>-0.00%</td>\n",
              "      <td>-0.01%</td>\n",
              "      <td>-0.01%</td>\n",
              "      <td>$5.35B $5,347,850,565</td>\n",
              "      <td>$254,554,269 254,554,647 DAI</td>\n",
              "      <td>5,347,888,596 DAI</td>\n",
              "    </tr>\n",
              "    <tr>\n",
              "      <th>3</th>\n",
              "      <td>26</td>\n",
              "      <td>Mantle MNT</td>\n",
              "      <td>$1.17</td>\n",
              "      <td>+0.93%</td>\n",
              "      <td>+1.26%</td>\n",
              "      <td>-8.09%</td>\n",
              "      <td>$3.84B $3,835,531,432</td>\n",
              "      <td>$83,206,188 71,575,485 MNT</td>\n",
              "      <td>3,264,441,708 MNT</td>\n",
              "    </tr>\n",
              "    <tr>\n",
              "      <th>4</th>\n",
              "      <td>27</td>\n",
              "      <td>First Digital USD FDUSD</td>\n",
              "      <td>$1.00</td>\n",
              "      <td>+0.05%</td>\n",
              "      <td>+0.07%</td>\n",
              "      <td>-0.04%</td>\n",
              "      <td>$3.68B $3,675,360,388</td>\n",
              "      <td>$7,934,336,941 7,934,451,693 FDUSD</td>\n",
              "      <td>3,673,766,597 FDUSD</td>\n",
              "    </tr>\n",
              "  </tbody>\n",
              "</table>\n",
              "</div>"
            ],
            "text/plain": [
              "   +#                   Nombre       Precio    1h %  24 h %     7d %  \\\n",
              "0   2             Ethereum ETH    $3,072.44  -0.25%  +2.07%  -12.49%   \n",
              "1  11           Shiba Inu SHIB  $0.00002285  +0.17%  +2.72%  -17.19%   \n",
              "2  22                  Dai DAI      $0.9999  -0.00%  -0.01%   -0.01%   \n",
              "3  26               Mantle MNT        $1.17  +0.93%  +1.26%   -8.09%   \n",
              "4  27  First Digital USD FDUSD        $1.00  +0.05%  +0.07%   -0.04%   \n",
              "\n",
              "             Cap. de Mercado                         Volumen (24h)  \\\n",
              "0  $368.91B $368,914,197,986         $15,340,418,124 5,003,070 ETH   \n",
              "1    $13.47B $13,467,725,316  $467,017,415 20,485,132,680,649 SHIB   \n",
              "2      $5.35B $5,347,850,565          $254,554,269 254,554,647 DAI   \n",
              "3      $3.84B $3,835,531,432            $83,206,188 71,575,485 MNT   \n",
              "4      $3.68B $3,675,360,388    $7,934,336,941 7,934,451,693 FDUSD   \n",
              "\n",
              "    Acciones en circulación  \n",
              "0           120,072,117 ETH  \n",
              "1  589,289,410,812,691 SHIB  \n",
              "2         5,347,888,596 DAI  \n",
              "3         3,264,441,708 MNT  \n",
              "4       3,673,766,597 FDUSD  "
            ]
          },
          "execution_count": 48,
          "metadata": {},
          "output_type": "execute_result"
        }
      ],
      "source": [
        "df_ETHERIUM_TOKEN = pd.DataFrame(data_list,columns=COLS)\n",
        "df_ETHERIUM_TOKEN.head()"
      ]
    },
    {
      "cell_type": "code",
      "execution_count": 137,
      "metadata": {},
      "outputs": [
        {
          "name": "stderr",
          "output_type": "stream",
          "text": [
            "C:\\Users\\Joseph\\AppData\\Local\\Temp\\ipykernel_19996\\1828452208.py:16: DeprecationWarning: The 'text' argument to find()-type methods is deprecated. Use 'string' instead.\n",
            "  cell_text = ' '.join([text.strip() for text in cell.find_all(text=True)])\n"
          ]
        }
      ],
      "source": [
        "pathFile = \"./CoinMarketCap/09_btc\"\n",
        "soup = read_html(f\"{pathFile}/{1}.html\")\n",
        "data_list += process_of_html(soup)\n",
        "create_save_to_csv_assing_cols(\"./data/data_raw/data_BTC_TOKEN_18042024_coinmarket.csv\",data_list,COLS)"
      ]
    },
    {
      "cell_type": "markdown",
      "metadata": {
        "id": "toOeYlMapimY"
      },
      "source": [
        "# Preprocesando Datos recopilados"
      ]
    },
    {
      "cell_type": "markdown",
      "metadata": {},
      "source": [
        "Limpiando datos AI"
      ]
    },
    {
      "cell_type": "code",
      "execution_count": 2,
      "metadata": {},
      "outputs": [],
      "source": [
        "import pandas as pd"
      ]
    },
    {
      "cell_type": "code",
      "execution_count": 74,
      "metadata": {},
      "outputs": [],
      "source": [
        "pathFile = \"./data/data_raw/\"\n",
        "ia_tokens = \"data_ai_18042024_coinmarket.csv\"\n",
        "df  = pd.read_csv(f\"{pathFile}{ia_tokens}\",sep=\";\")\n"
      ]
    },
    {
      "cell_type": "code",
      "execution_count": 75,
      "metadata": {},
      "outputs": [],
      "source": [
        "df = df.drop(columns=[\"Unnamed: 0\"])"
      ]
    },
    {
      "cell_type": "code",
      "execution_count": 77,
      "metadata": {},
      "outputs": [
        {
          "data": {
            "text/html": [
              "<div>\n",
              "<style scoped>\n",
              "    .dataframe tbody tr th:only-of-type {\n",
              "        vertical-align: middle;\n",
              "    }\n",
              "\n",
              "    .dataframe tbody tr th {\n",
              "        vertical-align: top;\n",
              "    }\n",
              "\n",
              "    .dataframe thead th {\n",
              "        text-align: right;\n",
              "    }\n",
              "</style>\n",
              "<table border=\"1\" class=\"dataframe\">\n",
              "  <thead>\n",
              "    <tr style=\"text-align: right;\">\n",
              "      <th></th>\n",
              "      <th>+#</th>\n",
              "      <th>Nombre</th>\n",
              "      <th>Precio</th>\n",
              "      <th>1h %</th>\n",
              "      <th>24 h %</th>\n",
              "      <th>7d %</th>\n",
              "      <th>Cap. de Mercado</th>\n",
              "      <th>Volumen (24h)</th>\n",
              "      <th>Acciones en circulación</th>\n",
              "    </tr>\n",
              "  </thead>\n",
              "  <tbody>\n",
              "    <tr>\n",
              "      <th>0</th>\n",
              "      <td>1050</td>\n",
              "      <td>Robonomics.network XRT</td>\n",
              "      <td>$6.54</td>\n",
              "      <td>+0.37%</td>\n",
              "      <td>+0.56%</td>\n",
              "      <td>-23.40%</td>\n",
              "      <td>$10.89M $10,888,512</td>\n",
              "      <td>$30,861 4,720 XRT</td>\n",
              "      <td>1,665,451 XRT</td>\n",
              "    </tr>\n",
              "    <tr>\n",
              "      <th>1</th>\n",
              "      <td>1057</td>\n",
              "      <td>SENATE SENATE</td>\n",
              "      <td>$0.096</td>\n",
              "      <td>-0.19%</td>\n",
              "      <td>+0.50%</td>\n",
              "      <td>-21.22%</td>\n",
              "      <td>$10.54M $10,544,140</td>\n",
              "      <td>$79,786 831,180 SENATE</td>\n",
              "      <td>109,822,392 SENATE</td>\n",
              "    </tr>\n",
              "    <tr>\n",
              "      <th>2</th>\n",
              "      <td>1056</td>\n",
              "      <td>Big Data Protocol BDP</td>\n",
              "      <td>$0.2017</td>\n",
              "      <td>+0.35%</td>\n",
              "      <td>+0.14%</td>\n",
              "      <td>-20.36%</td>\n",
              "      <td>$10.52M $10,522,378</td>\n",
              "      <td>$248,287 1,230,849 BDP</td>\n",
              "      <td>52,278,856 BDP</td>\n",
              "    </tr>\n",
              "    <tr>\n",
              "      <th>3</th>\n",
              "      <td>1058</td>\n",
              "      <td>PIBBLE PIB</td>\n",
              "      <td>$0.0004805</td>\n",
              "      <td>-0.50%</td>\n",
              "      <td>-3.22%</td>\n",
              "      <td>-23.71%</td>\n",
              "      <td>$10.52M $10,515,630</td>\n",
              "      <td>$245,007 509,929,289 PIB</td>\n",
              "      <td>21,913,860,893 PIB</td>\n",
              "    </tr>\n",
              "    <tr>\n",
              "      <th>4</th>\n",
              "      <td>1064</td>\n",
              "      <td>Ooki Protocol OOKI</td>\n",
              "      <td>$0.002281</td>\n",
              "      <td>+0.02%</td>\n",
              "      <td>-0.75%</td>\n",
              "      <td>-29.57%</td>\n",
              "      <td>$10.38M $10,377,404</td>\n",
              "      <td>$2,687,294 1,178,281,586 OOKI</td>\n",
              "      <td>4,558,586,607 OOKI</td>\n",
              "    </tr>\n",
              "  </tbody>\n",
              "</table>\n",
              "</div>"
            ],
            "text/plain": [
              "     +#                  Nombre      Precio    1h %  24 h %     7d %  \\\n",
              "0  1050  Robonomics.network XRT       $6.54  +0.37%  +0.56%  -23.40%   \n",
              "1  1057           SENATE SENATE      $0.096  -0.19%  +0.50%  -21.22%   \n",
              "2  1056   Big Data Protocol BDP     $0.2017  +0.35%  +0.14%  -20.36%   \n",
              "3  1058              PIBBLE PIB  $0.0004805  -0.50%  -3.22%  -23.71%   \n",
              "4  1064      Ooki Protocol OOKI   $0.002281  +0.02%  -0.75%  -29.57%   \n",
              "\n",
              "       Cap. de Mercado                  Volumen (24h) Acciones en circulación  \n",
              "0  $10.89M $10,888,512              $30,861 4,720 XRT           1,665,451 XRT  \n",
              "1  $10.54M $10,544,140         $79,786 831,180 SENATE      109,822,392 SENATE  \n",
              "2  $10.52M $10,522,378         $248,287 1,230,849 BDP          52,278,856 BDP  \n",
              "3  $10.52M $10,515,630       $245,007 509,929,289 PIB      21,913,860,893 PIB  \n",
              "4  $10.38M $10,377,404  $2,687,294 1,178,281,586 OOKI      4,558,586,607 OOKI  "
            ]
          },
          "execution_count": 77,
          "metadata": {},
          "output_type": "execute_result"
        }
      ],
      "source": [
        "df.head()"
      ]
    },
    {
      "cell_type": "code",
      "execution_count": 78,
      "metadata": {},
      "outputs": [
        {
          "data": {
            "text/plain": [
              "+#                         0\n",
              "Nombre                     0\n",
              "Precio                     0\n",
              "1h %                       0\n",
              "24 h %                     0\n",
              "7d %                       0\n",
              "Cap. de Mercado            0\n",
              "Volumen (24h)              0\n",
              "Acciones en circulación    0\n",
              "dtype: int64"
            ]
          },
          "execution_count": 78,
          "metadata": {},
          "output_type": "execute_result"
        }
      ],
      "source": [
        "df.isna().sum()"
      ]
    },
    {
      "cell_type": "code",
      "execution_count": 79,
      "metadata": {},
      "outputs": [],
      "source": [
        "df=df.replace(\"--\",None)\n"
      ]
    },
    {
      "cell_type": "code",
      "execution_count": 80,
      "metadata": {},
      "outputs": [],
      "source": [
        "df = df.dropna()"
      ]
    },
    {
      "cell_type": "code",
      "execution_count": 81,
      "metadata": {},
      "outputs": [],
      "source": [
        "df[\"Symbol\"] = df[\"Nombre\"].str.split(\" \").str[-1]"
      ]
    },
    {
      "cell_type": "code",
      "execution_count": 82,
      "metadata": {},
      "outputs": [],
      "source": [
        "df[\"Nombre\"] = df[\"Nombre\"].str.split(\" \").str[:-1].str.join(\" \")"
      ]
    },
    {
      "cell_type": "code",
      "execution_count": 83,
      "metadata": {},
      "outputs": [],
      "source": [
        "df[\"Cap. de Mercado\"] = df[\"Cap. de Mercado\"].str.split(\" \").str[-1]"
      ]
    },
    {
      "cell_type": "code",
      "execution_count": 84,
      "metadata": {},
      "outputs": [],
      "source": [
        "df[\"Volumen (24h) USD\"] = df[\"Volumen (24h)\"].str.split(\" \").str[0].str[1:]"
      ]
    },
    {
      "cell_type": "code",
      "execution_count": 85,
      "metadata": {},
      "outputs": [],
      "source": [
        "df[\"Volumen (24h) Tokens\"] = df[\"Volumen (24h)\"].str.split(\" \").str[1]"
      ]
    },
    {
      "cell_type": "code",
      "execution_count": 86,
      "metadata": {},
      "outputs": [],
      "source": [
        "df=df.drop(columns=[\"Volumen (24h)\"])"
      ]
    },
    {
      "cell_type": "code",
      "execution_count": 87,
      "metadata": {},
      "outputs": [],
      "source": [
        "df[\"Acciones en circulación\"]=df[\"Acciones en circulación\"].str.split(\" \").str[0]"
      ]
    },
    {
      "cell_type": "code",
      "execution_count": 88,
      "metadata": {},
      "outputs": [],
      "source": [
        "df = df.rename(columns={'+#': 'top'})\n"
      ]
    },
    {
      "cell_type": "code",
      "execution_count": 89,
      "metadata": {},
      "outputs": [],
      "source": [
        "df[\"top\"]=df[\"top\"].astype(int)"
      ]
    },
    {
      "cell_type": "code",
      "execution_count": 90,
      "metadata": {},
      "outputs": [],
      "source": [
        "df[\"1h %\"]=df[\"1h %\"].str.replace(\"%\",\"\")"
      ]
    },
    {
      "cell_type": "code",
      "execution_count": 91,
      "metadata": {},
      "outputs": [],
      "source": [
        "df[\"24 h %\"]=df[\"24 h %\"].str.replace(\"%\",\"\")"
      ]
    },
    {
      "cell_type": "code",
      "execution_count": 92,
      "metadata": {},
      "outputs": [],
      "source": [
        "df[\"7d %\"]=df[\"7d %\"].str.replace(\"%\",\"\")"
      ]
    },
    {
      "cell_type": "code",
      "execution_count": 93,
      "metadata": {},
      "outputs": [],
      "source": [
        "df[\"Cap. de Mercado\"] = df[\"Cap. de Mercado\"].str[1:]"
      ]
    },
    {
      "cell_type": "code",
      "execution_count": 94,
      "metadata": {},
      "outputs": [],
      "source": [
        "df = df.rename(columns={'Cap. de Mercado': 'CAP. USD'})\n"
      ]
    },
    {
      "cell_type": "code",
      "execution_count": 95,
      "metadata": {},
      "outputs": [],
      "source": [
        "df = df.rename(columns={'Acciones en circulación': 'ACC. CIRCULACION'})"
      ]
    },
    {
      "cell_type": "code",
      "execution_count": 96,
      "metadata": {},
      "outputs": [],
      "source": [
        "df[\"Precio\"]=df[\"Precio\"].str[1:]"
      ]
    },
    {
      "cell_type": "code",
      "execution_count": 97,
      "metadata": {},
      "outputs": [],
      "source": [
        "df = df.rename(columns={'Precio': 'Precio USD'})"
      ]
    },
    {
      "cell_type": "code",
      "execution_count": 98,
      "metadata": {},
      "outputs": [],
      "source": [
        "df[\"CATEGORY\"] = \"AI\""
      ]
    },
    {
      "cell_type": "code",
      "execution_count": 99,
      "metadata": {},
      "outputs": [],
      "source": [
        "df = df.rename(columns={'1h %': '1h%'})\n",
        "df = df.rename(columns={'24 h %': '24h%'})\n",
        "df = df.rename(columns={'7d %': '7d%'})"
      ]
    },
    {
      "cell_type": "code",
      "execution_count": 100,
      "metadata": {},
      "outputs": [],
      "source": [
        "df[\"Volumen (24h) USD\"] = df[\"Volumen (24h) USD\"].str.replace(\",\",\"\")\n",
        "df[\"Volumen (24h) Tokens\"] = df[\"Volumen (24h) Tokens\"].str.replace(\",\",\"\")\n",
        "df[\"ACC. CIRCULACION\"] = df[\"ACC. CIRCULACION\"].str.replace(\",\",\"\")\n",
        "df[\"CAP. USD\"] = df[\"CAP. USD\"].str.replace(\",\",\"\")"
      ]
    },
    {
      "cell_type": "code",
      "execution_count": 101,
      "metadata": {},
      "outputs": [],
      "source": [
        "df[\"Volumen (24h) USD\"] = df[\"Volumen (24h) USD\"].astype(float)\n"
      ]
    },
    {
      "cell_type": "code",
      "execution_count": 102,
      "metadata": {},
      "outputs": [],
      "source": [
        "df[\"Volumen (24h) Tokens\"] = df[\"Volumen (24h) Tokens\"].astype(float)\n"
      ]
    },
    {
      "cell_type": "code",
      "execution_count": 103,
      "metadata": {},
      "outputs": [],
      "source": [
        "df[\"ACC. CIRCULACION\"] = df[\"ACC. CIRCULACION\"].astype(float)\n"
      ]
    },
    {
      "cell_type": "code",
      "execution_count": 104,
      "metadata": {},
      "outputs": [],
      "source": [
        "df[\"CAP. USD\"] = df[\"CAP. USD\"].astype(float)"
      ]
    },
    {
      "cell_type": "code",
      "execution_count": 105,
      "metadata": {},
      "outputs": [],
      "source": [
        "df[\"Precio USD\"] = pd.to_numeric(df[\"Precio USD\"], errors='coerce')\n",
        "df = df.dropna()\n",
        "df[\"Precio USD\"] = df[\"Precio USD\"].astype(float)\n",
        "\n"
      ]
    },
    {
      "cell_type": "code",
      "execution_count": 108,
      "metadata": {},
      "outputs": [],
      "source": [
        "df[\"1h%\"] = df[\"1h%\"].astype(float)\n",
        "df[\"24h%\"] = df[\"24h%\"].astype(float)\n",
        "df[\"7d%\"] = df[\"7d%\"].astype(float)"
      ]
    },
    {
      "cell_type": "code",
      "execution_count": 107,
      "metadata": {},
      "outputs": [
        {
          "data": {
            "text/html": [
              "<div>\n",
              "<style scoped>\n",
              "    .dataframe tbody tr th:only-of-type {\n",
              "        vertical-align: middle;\n",
              "    }\n",
              "\n",
              "    .dataframe tbody tr th {\n",
              "        vertical-align: top;\n",
              "    }\n",
              "\n",
              "    .dataframe thead th {\n",
              "        text-align: right;\n",
              "    }\n",
              "</style>\n",
              "<table border=\"1\" class=\"dataframe\">\n",
              "  <thead>\n",
              "    <tr style=\"text-align: right;\">\n",
              "      <th></th>\n",
              "      <th>top</th>\n",
              "      <th>Nombre</th>\n",
              "      <th>Precio USD</th>\n",
              "      <th>1h%</th>\n",
              "      <th>24h%</th>\n",
              "      <th>7d%</th>\n",
              "      <th>CAP. USD</th>\n",
              "      <th>ACC. CIRCULACION</th>\n",
              "      <th>Symbol</th>\n",
              "      <th>Volumen (24h) USD</th>\n",
              "      <th>Volumen (24h) Tokens</th>\n",
              "      <th>CATEGORY</th>\n",
              "    </tr>\n",
              "  </thead>\n",
              "  <tbody>\n",
              "    <tr>\n",
              "      <th>0</th>\n",
              "      <td>1050</td>\n",
              "      <td>Robonomics.network</td>\n",
              "      <td>6.540000</td>\n",
              "      <td>+0.37</td>\n",
              "      <td>+0.56</td>\n",
              "      <td>-23.40</td>\n",
              "      <td>10888512.0</td>\n",
              "      <td>1.665451e+06</td>\n",
              "      <td>XRT</td>\n",
              "      <td>30861.0</td>\n",
              "      <td>4.720000e+03</td>\n",
              "      <td>AI</td>\n",
              "    </tr>\n",
              "    <tr>\n",
              "      <th>1</th>\n",
              "      <td>1057</td>\n",
              "      <td>SENATE</td>\n",
              "      <td>0.096000</td>\n",
              "      <td>-0.19</td>\n",
              "      <td>+0.50</td>\n",
              "      <td>-21.22</td>\n",
              "      <td>10544140.0</td>\n",
              "      <td>1.098224e+08</td>\n",
              "      <td>SENATE</td>\n",
              "      <td>79786.0</td>\n",
              "      <td>8.311800e+05</td>\n",
              "      <td>AI</td>\n",
              "    </tr>\n",
              "    <tr>\n",
              "      <th>2</th>\n",
              "      <td>1056</td>\n",
              "      <td>Big Data Protocol</td>\n",
              "      <td>0.201700</td>\n",
              "      <td>+0.35</td>\n",
              "      <td>+0.14</td>\n",
              "      <td>-20.36</td>\n",
              "      <td>10522378.0</td>\n",
              "      <td>5.227886e+07</td>\n",
              "      <td>BDP</td>\n",
              "      <td>248287.0</td>\n",
              "      <td>1.230849e+06</td>\n",
              "      <td>AI</td>\n",
              "    </tr>\n",
              "    <tr>\n",
              "      <th>3</th>\n",
              "      <td>1058</td>\n",
              "      <td>PIBBLE</td>\n",
              "      <td>0.000481</td>\n",
              "      <td>-0.50</td>\n",
              "      <td>-3.22</td>\n",
              "      <td>-23.71</td>\n",
              "      <td>10515630.0</td>\n",
              "      <td>2.191386e+10</td>\n",
              "      <td>PIB</td>\n",
              "      <td>245007.0</td>\n",
              "      <td>5.099293e+08</td>\n",
              "      <td>AI</td>\n",
              "    </tr>\n",
              "    <tr>\n",
              "      <th>4</th>\n",
              "      <td>1064</td>\n",
              "      <td>Ooki Protocol</td>\n",
              "      <td>0.002281</td>\n",
              "      <td>+0.02</td>\n",
              "      <td>-0.75</td>\n",
              "      <td>-29.57</td>\n",
              "      <td>10377404.0</td>\n",
              "      <td>4.558587e+09</td>\n",
              "      <td>OOKI</td>\n",
              "      <td>2687294.0</td>\n",
              "      <td>1.178282e+09</td>\n",
              "      <td>AI</td>\n",
              "    </tr>\n",
              "  </tbody>\n",
              "</table>\n",
              "</div>"
            ],
            "text/plain": [
              "    top              Nombre  Precio USD    1h%   24h%     7d%    CAP. USD  \\\n",
              "0  1050  Robonomics.network    6.540000  +0.37  +0.56  -23.40  10888512.0   \n",
              "1  1057              SENATE    0.096000  -0.19  +0.50  -21.22  10544140.0   \n",
              "2  1056   Big Data Protocol    0.201700  +0.35  +0.14  -20.36  10522378.0   \n",
              "3  1058              PIBBLE    0.000481  -0.50  -3.22  -23.71  10515630.0   \n",
              "4  1064       Ooki Protocol    0.002281  +0.02  -0.75  -29.57  10377404.0   \n",
              "\n",
              "   ACC. CIRCULACION  Symbol  Volumen (24h) USD  Volumen (24h) Tokens CATEGORY  \n",
              "0      1.665451e+06     XRT            30861.0          4.720000e+03       AI  \n",
              "1      1.098224e+08  SENATE            79786.0          8.311800e+05       AI  \n",
              "2      5.227886e+07     BDP           248287.0          1.230849e+06       AI  \n",
              "3      2.191386e+10     PIB           245007.0          5.099293e+08       AI  \n",
              "4      4.558587e+09    OOKI          2687294.0          1.178282e+09       AI  "
            ]
          },
          "execution_count": 107,
          "metadata": {},
          "output_type": "execute_result"
        }
      ],
      "source": [
        "df.head()"
      ]
    },
    {
      "cell_type": "code",
      "execution_count": 109,
      "metadata": {},
      "outputs": [],
      "source": [
        "pathFileClean = \"./data/data_clean/\""
      ]
    },
    {
      "cell_type": "code",
      "execution_count": 112,
      "metadata": {},
      "outputs": [],
      "source": [
        "df.to_csv(f\"{pathFileClean}data_ai_18042024_coinmarket.csv\",sep=\";\",index=False)"
      ]
    },
    {
      "cell_type": "markdown",
      "metadata": {},
      "source": [
        "Repetimos por cada archivo"
      ]
    },
    {
      "cell_type": "code",
      "execution_count": 121,
      "metadata": {},
      "outputs": [],
      "source": [
        "def preprocessing_data(pathFile,category_token):\n",
        "    df = pd.read_csv(f\"{pathFile}\",sep=\";\")\n",
        "    # Eliminar columnas no necesarias\n",
        "    df = df.drop(columns=[\"Unnamed: 0\"])\n",
        "    # Reemplazar valores nulos\n",
        "    df = df.replace(\"--\",None)\n",
        "    # Eliminar filas con valores nulos\n",
        "    df = df.dropna()\n",
        "    # revisar si en la columna \"+#\" se encuentran el encabezado como fila\n",
        "    if \"+#\" in df.columns:\n",
        "        df = df.drop(df[df[\"+#\"]==\"+#\"].index)\n",
        "    # Asignar el simbolo de la moneda\n",
        "    df[\"Symbol\"] = df[\"Nombre\"].str.split(\" \").str[-1]\n",
        "    # usar el nombre de la moneda\n",
        "    df[\"Nombre\"] = df[\"Nombre\"].str.split(\" \").str[:-1].str.join(\" \")\n",
        "    # Asignar el valor de la capitalizacion de mercado\n",
        "    df[\"Cap. de Mercado\"] = df[\"Cap. de Mercado\"].str.split(\" \").str[-1]\n",
        "    # Asignar el valor del volumen de 24 horas en valor USD\n",
        "    df[\"Volumen (24h) USD\"] = df[\"Volumen (24h)\"].str.split(\" \").str[0].str[1:]\n",
        "    # Asignar el valor del volumen de 24 horas en valor de tokens\n",
        "    df[\"Volumen (24h) Tokens\"] = df[\"Volumen (24h)\"].str.split(\" \").str[1]\n",
        "    # Eliminar la columna de volumen de 24 horas\n",
        "    df=df.drop(columns=[\"Volumen (24h)\"])\n",
        "    # Asignar el valor de las acciones en circulacion\n",
        "    df[\"Acciones en circulación\"]=df[\"Acciones en circulación\"].str.split(\" \").str[0]\n",
        "    # Renombrar la columna \"+#\" a \"top\"\n",
        "    df = df.rename(columns={'+#': 'top'})\n",
        "    # Convertir la columna \"top\" a tipo entero\n",
        "    df[\"top\"]=df[\"top\"].astype(int)\n",
        "    # Eliminar el simbolo de porcentaje de la columna \"1h %\"\n",
        "    df[\"1h %\"]=df[\"1h %\"].str.replace(\"%\",\"\")\n",
        "    # Eliminar el simbolo de porcentaje de la columna \"24 h %\"\n",
        "    df[\"24 h %\"]=df[\"24 h %\"].str.replace(\"%\",\"\")\n",
        "    # Eliminar el simbolo de porcentaje de la columna \"7d %\"\n",
        "    df[\"7d %\"]=df[\"7d %\"].str.replace(\"%\",\"\")\n",
        "    # Eliminar el simbolo de dolar de la columna \"Cap. de Mercado\"\n",
        "    df[\"Cap. de Mercado\"] = df[\"Cap. de Mercado\"].str[1:]\n",
        "    # Renombrar la columna \"Cap. de Mercado\" a \"CAP. USD\"\n",
        "    df = df.rename(columns={'Cap. de Mercado': 'CAP. USD'})\n",
        "    # Renombrar la columna \"Acciones en circulación\" a \"ACC. CIRCULACION\"\n",
        "    df = df.rename(columns={'Acciones en circulación': 'ACC. CIRCULACION'})\n",
        "    # Eliminar el simbolo de dolar de la columna \"Precio\"\n",
        "    df[\"Precio\"]=df[\"Precio\"].str[1:]\n",
        "    # Renombrar la columna \"Precio\" a \"Precio USD\"\n",
        "    df = df.rename(columns={'Precio': 'Precio USD'})\n",
        "    # Asignar la categoria de la moneda\n",
        "    df[\"CATEGORY\"] = category_token\n",
        "    # Renombrar las columnas \"1h %\", \"24 h %\", \"7d %\" a \"1h%\",\"24h%\",\"7d%\"\n",
        "    df = df.rename(columns={'1h %': '1h%'})\n",
        "    df = df.rename(columns={'24 h %': '24h%'})\n",
        "    df = df.rename(columns={'7d %': '7d%'})\n",
        "    # Eliminar las comas de los valores numericos\n",
        "    df[\"Volumen (24h) USD\"] = df[\"Volumen (24h) USD\"].str.replace(\",\",\"\")\n",
        "    df[\"Volumen (24h) Tokens\"] = df[\"Volumen (24h) Tokens\"].str.replace(\",\",\"\")\n",
        "    df[\"ACC. CIRCULACION\"] = df[\"ACC. CIRCULACION\"].str.replace(\",\",\"\")\n",
        "    df[\"CAP. USD\"] = df[\"CAP. USD\"].str.replace(\",\",\"\")\n",
        "    # Convertir las columnas numericas a tipo float\n",
        "    df[\"Volumen (24h) USD\"] = pd.to_numeric(df[\"Volumen (24h) USD\"], errors='coerce')\n",
        "    df[\"Volumen (24h) Tokens\"] = pd.to_numeric(df[\"Volumen (24h) Tokens\"], errors='coerce')\n",
        "    df[\"ACC. CIRCULACION\"] = pd.to_numeric(df[\"ACC. CIRCULACION\"], errors='coerce')\n",
        "    df[\"CAP. USD\"] = pd.to_numeric(df[\"CAP. USD\"], errors='coerce')\n",
        "    df[\"Precio USD\"] = pd.to_numeric(df[\"Precio USD\"], errors='coerce')\n",
        "    # Eliminar filas con valores nulos\n",
        "    df = df.dropna()\n",
        "    # Convertir la columna \"Precio USD\" a tipo float\n",
        "    df[\"Volumen (24h) USD\"] = df[\"Volumen (24h) USD\"].astype(float)\n",
        "    df[\"Volumen (24h) Tokens\"] = df[\"Volumen (24h) Tokens\"].astype(float)\n",
        "    df[\"ACC. CIRCULACION\"] = df[\"ACC. CIRCULACION\"].astype(float)\n",
        "    df[\"CAP. USD\"] = df[\"CAP. USD\"].astype(float)\n",
        "    df[\"Precio USD\"] = df[\"Precio USD\"].astype(float)\n",
        "    # Convertir las columnas \"1h%\",\"24h%\",\"7d%\" a tipo float\n",
        "    df[\"1h%\"] = df[\"1h%\"].astype(float)\n",
        "    df[\"24h%\"] = df[\"24h%\"].astype(float)\n",
        "    df[\"7d%\"] = df[\"7d%\"].astype(float)\n",
        "    return df\n",
        "    \n"
      ]
    },
    {
      "cell_type": "code",
      "execution_count": 123,
      "metadata": {},
      "outputs": [
        {
          "data": {
            "text/html": [
              "<div>\n",
              "<style scoped>\n",
              "    .dataframe tbody tr th:only-of-type {\n",
              "        vertical-align: middle;\n",
              "    }\n",
              "\n",
              "    .dataframe tbody tr th {\n",
              "        vertical-align: top;\n",
              "    }\n",
              "\n",
              "    .dataframe thead th {\n",
              "        text-align: right;\n",
              "    }\n",
              "</style>\n",
              "<table border=\"1\" class=\"dataframe\">\n",
              "  <thead>\n",
              "    <tr style=\"text-align: right;\">\n",
              "      <th></th>\n",
              "      <th>top</th>\n",
              "      <th>Nombre</th>\n",
              "      <th>Precio USD</th>\n",
              "      <th>1h%</th>\n",
              "      <th>24h%</th>\n",
              "      <th>7d%</th>\n",
              "      <th>CAP. USD</th>\n",
              "      <th>ACC. CIRCULACION</th>\n",
              "      <th>Symbol</th>\n",
              "      <th>Volumen (24h) USD</th>\n",
              "      <th>Volumen (24h) Tokens</th>\n",
              "      <th>CATEGORY</th>\n",
              "    </tr>\n",
              "  </thead>\n",
              "  <tbody>\n",
              "    <tr>\n",
              "      <th>0</th>\n",
              "      <td>9</td>\n",
              "      <td>Dogecoin</td>\n",
              "      <td>0.150800</td>\n",
              "      <td>1.00</td>\n",
              "      <td>1.59</td>\n",
              "      <td>-21.91</td>\n",
              "      <td>2.171325e+10</td>\n",
              "      <td>1.439400e+11</td>\n",
              "      <td>DOGE</td>\n",
              "      <td>1.980506e+09</td>\n",
              "      <td>1.317143e+10</td>\n",
              "      <td>MEME</td>\n",
              "    </tr>\n",
              "    <tr>\n",
              "      <th>1</th>\n",
              "      <td>11</td>\n",
              "      <td>Shiba inu</td>\n",
              "      <td>0.000023</td>\n",
              "      <td>0.30</td>\n",
              "      <td>2.38</td>\n",
              "      <td>-17.71</td>\n",
              "      <td>1.333760e+10</td>\n",
              "      <td>5.892894e+14</td>\n",
              "      <td>SHIB</td>\n",
              "      <td>4.727369e+08</td>\n",
              "      <td>2.092000e+13</td>\n",
              "      <td>MEME</td>\n",
              "    </tr>\n",
              "    <tr>\n",
              "      <th>2</th>\n",
              "      <td>43</td>\n",
              "      <td>dogwifhat</td>\n",
              "      <td>2.590000</td>\n",
              "      <td>1.58</td>\n",
              "      <td>4.95</td>\n",
              "      <td>-27.39</td>\n",
              "      <td>2.589994e+09</td>\n",
              "      <td>9.989062e+08</td>\n",
              "      <td>WIF</td>\n",
              "      <td>4.959827e+08</td>\n",
              "      <td>1.918557e+08</td>\n",
              "      <td>MEME</td>\n",
              "    </tr>\n",
              "    <tr>\n",
              "      <th>3</th>\n",
              "      <td>47</td>\n",
              "      <td>Pepe</td>\n",
              "      <td>0.000005</td>\n",
              "      <td>0.85</td>\n",
              "      <td>2.96</td>\n",
              "      <td>-31.14</td>\n",
              "      <td>2.144239e+09</td>\n",
              "      <td>4.206899e+14</td>\n",
              "      <td>PEPE</td>\n",
              "      <td>5.882097e+08</td>\n",
              "      <td>1.156218e+14</td>\n",
              "      <td>MEME</td>\n",
              "    </tr>\n",
              "    <tr>\n",
              "      <th>4</th>\n",
              "      <td>64</td>\n",
              "      <td>FLOKI</td>\n",
              "      <td>0.000138</td>\n",
              "      <td>0.36</td>\n",
              "      <td>2.24</td>\n",
              "      <td>-28.09</td>\n",
              "      <td>1.321730e+09</td>\n",
              "      <td>9.568393e+12</td>\n",
              "      <td>FLOKI</td>\n",
              "      <td>1.407826e+08</td>\n",
              "      <td>1.021617e+12</td>\n",
              "      <td>MEME</td>\n",
              "    </tr>\n",
              "  </tbody>\n",
              "</table>\n",
              "</div>"
            ],
            "text/plain": [
              "   top     Nombre  Precio USD   1h%  24h%    7d%      CAP. USD  \\\n",
              "0    9   Dogecoin    0.150800  1.00  1.59 -21.91  2.171325e+10   \n",
              "1   11  Shiba inu    0.000023  0.30  2.38 -17.71  1.333760e+10   \n",
              "2   43  dogwifhat    2.590000  1.58  4.95 -27.39  2.589994e+09   \n",
              "3   47       Pepe    0.000005  0.85  2.96 -31.14  2.144239e+09   \n",
              "4   64      FLOKI    0.000138  0.36  2.24 -28.09  1.321730e+09   \n",
              "\n",
              "   ACC. CIRCULACION Symbol  Volumen (24h) USD  Volumen (24h) Tokens CATEGORY  \n",
              "0      1.439400e+11   DOGE       1.980506e+09          1.317143e+10     MEME  \n",
              "1      5.892894e+14   SHIB       4.727369e+08          2.092000e+13     MEME  \n",
              "2      9.989062e+08    WIF       4.959827e+08          1.918557e+08     MEME  \n",
              "3      4.206899e+14   PEPE       5.882097e+08          1.156218e+14     MEME  \n",
              "4      9.568393e+12  FLOKI       1.407826e+08          1.021617e+12     MEME  "
            ]
          },
          "execution_count": 123,
          "metadata": {},
          "output_type": "execute_result"
        }
      ],
      "source": [
        "# Procesar los datos de la categoria de monedas de Meme\n",
        "pathFile = \"./data/data_raw/data_memes_18042024_coinmarket.csv\"\n",
        "category_token = \"MEME\"\n",
        "df = preprocessing_data(pathFile,category_token)\n",
        "pathFileClean = \"./data/data_clean/\"\n",
        "df.to_csv(f\"{pathFileClean}data_memes_18042024_coinmarket.csv\",sep=\";\",index=False)\n",
        "df.head()"
      ]
    },
    {
      "cell_type": "code",
      "execution_count": 124,
      "metadata": {},
      "outputs": [],
      "source": [
        "# Procesar los datos de la categoria de monedas de Gaming\n",
        "pathFile = \"./data/data_raw/data_gaming_18042024_coinmarket.csv\"\n",
        "category_token = \"GAMING\"\n",
        "df = preprocessing_data(pathFile,category_token)\n",
        "pathFileClean = \"./data/data_clean/\"\n",
        "df.to_csv(f\"{pathFileClean}data_gaming_18042024_coinmarket.csv\",sep=\";\",index=False)"
      ]
    },
    {
      "cell_type": "code",
      "execution_count": 3,
      "metadata": {},
      "outputs": [],
      "source": [
        "# Procesar data de ecosistemas de los tokens\n",
        "folder_path = \"./data/data_raw/ecosystems/\"\n",
        "csv_files = list(Path(folder_path).glob(\"*.csv\"))\n",
        "filtered_files = [file.name for file in csv_files ]"
      ]
    },
    {
      "cell_type": "code",
      "execution_count": 4,
      "metadata": {},
      "outputs": [
        {
          "data": {
            "text/plain": [
              "['data_BTC_TOKEN_18042024_coinmarket.csv',\n",
              " 'data_CARDANO_TOKEN_18042024_coinmarket.csv',\n",
              " 'data_ETHERIUM_TOKEN_18042024_coinmarket.csv',\n",
              " 'data_SOLANA_TOKEN_18042024_coinmarket.csv',\n",
              " 'data_token_tron_18042024_coinmarket.csv']"
            ]
          },
          "execution_count": 4,
          "metadata": {},
          "output_type": "execute_result"
        }
      ],
      "source": [
        "filtered_files"
      ]
    },
    {
      "cell_type": "code",
      "execution_count": 10,
      "metadata": {},
      "outputs": [
        {
          "data": {
            "text/html": [
              "<div>\n",
              "<style scoped>\n",
              "    .dataframe tbody tr th:only-of-type {\n",
              "        vertical-align: middle;\n",
              "    }\n",
              "\n",
              "    .dataframe tbody tr th {\n",
              "        vertical-align: top;\n",
              "    }\n",
              "\n",
              "    .dataframe thead th {\n",
              "        text-align: right;\n",
              "    }\n",
              "</style>\n",
              "<table border=\"1\" class=\"dataframe\">\n",
              "  <thead>\n",
              "    <tr style=\"text-align: right;\">\n",
              "      <th></th>\n",
              "      <th>NAME</th>\n",
              "      <th>ECOSYSTEM</th>\n",
              "      <th>SYMBOL</th>\n",
              "    </tr>\n",
              "  </thead>\n",
              "  <tbody>\n",
              "    <tr>\n",
              "      <th>0</th>\n",
              "      <td>TRON</td>\n",
              "      <td>TRON</td>\n",
              "      <td>TRX</td>\n",
              "    </tr>\n",
              "    <tr>\n",
              "      <th>1</th>\n",
              "      <td>BitTorrent (New)</td>\n",
              "      <td>TRON</td>\n",
              "      <td>BTT</td>\n",
              "    </tr>\n",
              "    <tr>\n",
              "      <th>2</th>\n",
              "      <td>APENFT</td>\n",
              "      <td>TRON</td>\n",
              "      <td>NFT</td>\n",
              "    </tr>\n",
              "    <tr>\n",
              "      <th>3</th>\n",
              "      <td>JUST</td>\n",
              "      <td>TRON</td>\n",
              "      <td>JST</td>\n",
              "    </tr>\n",
              "    <tr>\n",
              "      <th>4</th>\n",
              "      <td>Sun (New)</td>\n",
              "      <td>TRON</td>\n",
              "      <td>SUN</td>\n",
              "    </tr>\n",
              "  </tbody>\n",
              "</table>\n",
              "</div>"
            ],
            "text/plain": [
              "               NAME ECOSYSTEM SYMBOL\n",
              "0              TRON      TRON    TRX\n",
              "1  BitTorrent (New)      TRON    BTT\n",
              "2            APENFT      TRON    NFT\n",
              "3              JUST      TRON    JST\n",
              "4         Sun (New)      TRON    SUN"
            ]
          },
          "execution_count": 10,
          "metadata": {},
          "output_type": "execute_result"
        }
      ],
      "source": [
        "ecosystem = [\"BITCOIN\",\"CARDANO\",\"ETHERIUM\",\"SOLANA\",\"TRON\"]\n",
        "def process_token_by_ecosystem(folder_path,file,ecosystem):\n",
        "    df_ecosystems  = pd.read_csv(f\"{folder_path}{file}\",sep=\";\")\n",
        "    df_ecosystems.drop(columns=[\"Unnamed: 0\"],inplace=True)\n",
        "    df_ecosystems= df_ecosystems.replace(\"+#\",None)\n",
        "    df_ecosystems=df_ecosystems.replace(\"--\",None)\n",
        "    df_ecosystems.dropna(inplace=True)\n",
        "    df_ecosystems[\"ECOSYSTEM\"] = ecosystem\n",
        "    #cambiar nombre a columna +# for top\n",
        "    df_ecosystems = df_ecosystems.rename(columns={\"+#\":\"top\"})\n",
        "    df_ecosystems[\"top\"] = df_ecosystems[\"top\"].astype(int)\n",
        "    df_ecosystems[\"SYMBOL\"]=df_ecosystems[\"Nombre\"].str.split(\" \").str[-1]\n",
        "    df_ecosystems[\"Nombre\"] = df_ecosystems[\"Nombre\"].str.split(\" \").str[:-1].str.join(\" \")\n",
        "    df_ecosystems = df_ecosystems.rename(columns={'Nombre': \"NAME\"})\n",
        "    df_ecosystems = df_ecosystems[[\"NAME\",\"ECOSYSTEM\",\"SYMBOL\"]]\n",
        "    return df_ecosystems\n",
        "folder_path = \"./data/data_raw/ecosystems/\"\n",
        "pathFileClean = \"./data/data_clean/\"\n",
        "for idx,file in enumerate(filtered_files):\n",
        "    df_ecosystems = process_token_by_ecosystem(folder_path,file,ecosystem[idx])\n",
        "    df_ecosystems.to_csv(f\"{pathFileClean}{file}\",sep=\";\",index=False)\n",
        "df_ecosystems.head()"
      ]
    },
    {
      "cell_type": "code",
      "execution_count": 11,
      "metadata": {},
      "outputs": [],
      "source": [
        "# Procesar data de ecosistemas de los portafolios\n",
        "folder_path = \"./data/data_raw/walles/\"\n",
        "csv_files = list(Path(folder_path).glob(\"*.csv\"))\n",
        "filtered_files = [file.name for file in csv_files ]"
      ]
    },
    {
      "cell_type": "code",
      "execution_count": 17,
      "metadata": {},
      "outputs": [
        {
          "data": {
            "text/html": [
              "<div>\n",
              "<style scoped>\n",
              "    .dataframe tbody tr th:only-of-type {\n",
              "        vertical-align: middle;\n",
              "    }\n",
              "\n",
              "    .dataframe tbody tr th {\n",
              "        vertical-align: top;\n",
              "    }\n",
              "\n",
              "    .dataframe thead th {\n",
              "        text-align: right;\n",
              "    }\n",
              "</style>\n",
              "<table border=\"1\" class=\"dataframe\">\n",
              "  <thead>\n",
              "    <tr style=\"text-align: right;\">\n",
              "      <th></th>\n",
              "      <th>NAME</th>\n",
              "      <th>PORTFOLIO</th>\n",
              "      <th>SYMBOL</th>\n",
              "    </tr>\n",
              "  </thead>\n",
              "  <tbody>\n",
              "    <tr>\n",
              "      <th>0</th>\n",
              "      <td>Bitcoin</td>\n",
              "      <td>USV</td>\n",
              "      <td>BTC</td>\n",
              "    </tr>\n",
              "    <tr>\n",
              "      <th>1</th>\n",
              "      <td>Ethereum</td>\n",
              "      <td>USV</td>\n",
              "      <td>ETH</td>\n",
              "    </tr>\n",
              "    <tr>\n",
              "      <th>2</th>\n",
              "      <td>Stacks</td>\n",
              "      <td>USV</td>\n",
              "      <td>STX</td>\n",
              "    </tr>\n",
              "    <tr>\n",
              "      <th>3</th>\n",
              "      <td>Algorand</td>\n",
              "      <td>USV</td>\n",
              "      <td>ALGO</td>\n",
              "    </tr>\n",
              "    <tr>\n",
              "      <th>4</th>\n",
              "      <td>Helium</td>\n",
              "      <td>USV</td>\n",
              "      <td>HNT</td>\n",
              "    </tr>\n",
              "  </tbody>\n",
              "</table>\n",
              "</div>"
            ],
            "text/plain": [
              "       NAME PORTFOLIO SYMBOL\n",
              "0   Bitcoin       USV    BTC\n",
              "1  Ethereum       USV    ETH\n",
              "2    Stacks       USV    STX\n",
              "3  Algorand       USV   ALGO\n",
              "4    Helium       USV    HNT"
            ]
          },
          "execution_count": 17,
          "metadata": {},
          "output_type": "execute_result"
        }
      ],
      "source": [
        "names = [name[:-4] for name in filtered_files]\n",
        "\n",
        "def process_token_by_portfolio(folder_path,file,name):\n",
        "    df_portfolio  = pd.read_csv(f\"{folder_path}{file}\",sep=\";\")\n",
        "    df_portfolio.drop(columns=[\"Unnamed: 0\"],inplace=True)\n",
        "    df_portfolio= df_portfolio.replace(\"+#\",None)\n",
        "    df_portfolio=df_portfolio.replace(\"--\",None)\n",
        "    df_portfolio.dropna(inplace=True)\n",
        "    df_portfolio[\"PORTFOLIO\"] = name\n",
        "    #cambiar nombre a columna +# for top\n",
        "    df_portfolio = df_portfolio.rename(columns={\"+#\":\"TOP\"})\n",
        "    df_portfolio[\"TOP\"] = df_portfolio[\"TOP\"].astype(int)\n",
        "    df_portfolio[\"SYMBOL\"]=df_portfolio[\"Nombre\"].str.split(\" \").str[-1]\n",
        "    df_portfolio[\"Nombre\"] = df_portfolio[\"Nombre\"].str.split(\" \").str[:-1].str.join(\" \")\n",
        "    df_portfolio = df_portfolio.rename(columns={'Nombre': \"NAME\"})\n",
        "    df_portfolio = df_portfolio[[\"NAME\",\"PORTFOLIO\",\"SYMBOL\"]]\n",
        "    return df_portfolio\n",
        "folder_path = \"./data/data_raw/walles/\"\n",
        "pathFileClean = \"./data/data_clean/\"\n",
        "for idx,file in enumerate(filtered_files):\n",
        "    df_portfolio = process_token_by_portfolio(folder_path,file,names[idx])\n",
        "    df_portfolio.to_csv(f\"{pathFileClean}{file}\",sep=\";\",index=False)\n",
        "df_portfolio.head()"
      ]
    },
    {
      "cell_type": "code",
      "execution_count": 1,
      "metadata": {},
      "outputs": [],
      "source": [
        "import pandas as pd\n",
        "from  pathlib import Path"
      ]
    },
    {
      "cell_type": "code",
      "execution_count": 62,
      "metadata": {},
      "outputs": [
        {
          "data": {
            "text/plain": [
              "['data_ai_18042024_coinmarket.csv',\n",
              " 'data_gaming_18042024_coinmarket.csv',\n",
              " 'data_memes_18042024_coinmarket.csv']"
            ]
          },
          "execution_count": 62,
          "metadata": {},
          "output_type": "execute_result"
        }
      ],
      "source": [
        "#  concatenar tokens\n",
        "folder_path = \"./data/data_clean/TOKENS/\"\n",
        "csv_files = list(Path(folder_path).glob(\"*.csv\"))\n",
        "filtered_files = [file.name for file in csv_files ]\n",
        "filtered_files\n",
        "\n",
        "\n"
      ]
    },
    {
      "cell_type": "code",
      "execution_count": 63,
      "metadata": {},
      "outputs": [],
      "source": [
        "\n",
        "df_ai=pd.read_csv(f\"{folder_path}{filtered_files[0]}\",sep=\";\")\n",
        "df_gaming=pd.read_csv(f\"{folder_path}{filtered_files[1]}\",sep=\";\")\n",
        "df_memes=pd.read_csv(f\"{folder_path}{filtered_files[2]}\",sep=\";\")"
      ]
    },
    {
      "cell_type": "code",
      "execution_count": 64,
      "metadata": {},
      "outputs": [],
      "source": [
        "tokens_ai=df_ai[\"Nombre\"].to_list()\n",
        "tokens_gaming=df_gaming[\"Nombre\"].to_list()\n",
        "tokens_memes=df_memes[\"Nombre\"].to_list()\n",
        "\n",
        "tokens_names = list(set(tokens_ai + tokens_gaming + tokens_memes))\n",
        "\n",
        "df_tokens = pd.DataFrame(tokens_names,columns=[\"TOKENS\"])"
      ]
    },
    {
      "cell_type": "code",
      "execution_count": 65,
      "metadata": {},
      "outputs": [
        {
          "data": {
            "text/html": [
              "<div>\n",
              "<style scoped>\n",
              "    .dataframe tbody tr th:only-of-type {\n",
              "        vertical-align: middle;\n",
              "    }\n",
              "\n",
              "    .dataframe tbody tr th {\n",
              "        vertical-align: top;\n",
              "    }\n",
              "\n",
              "    .dataframe thead th {\n",
              "        text-align: right;\n",
              "    }\n",
              "</style>\n",
              "<table border=\"1\" class=\"dataframe\">\n",
              "  <thead>\n",
              "    <tr style=\"text-align: right;\">\n",
              "      <th></th>\n",
              "      <th>top</th>\n",
              "      <th>Nombre</th>\n",
              "      <th>Precio USD</th>\n",
              "      <th>1h%</th>\n",
              "      <th>24h%</th>\n",
              "      <th>7d%</th>\n",
              "      <th>CAP. USD</th>\n",
              "      <th>ACC. CIRCULACION</th>\n",
              "      <th>Symbol</th>\n",
              "      <th>Volumen (24h) USD</th>\n",
              "      <th>Volumen (24h) Tokens</th>\n",
              "      <th>CATEGORY</th>\n",
              "    </tr>\n",
              "  </thead>\n",
              "  <tbody>\n",
              "    <tr>\n",
              "      <th>0</th>\n",
              "      <td>1050</td>\n",
              "      <td>Robonomics.network</td>\n",
              "      <td>6.540000</td>\n",
              "      <td>0.37</td>\n",
              "      <td>0.56</td>\n",
              "      <td>-23.40</td>\n",
              "      <td>10888512.0</td>\n",
              "      <td>1.665451e+06</td>\n",
              "      <td>XRT</td>\n",
              "      <td>30861.0</td>\n",
              "      <td>4.720000e+03</td>\n",
              "      <td>AI</td>\n",
              "    </tr>\n",
              "    <tr>\n",
              "      <th>1</th>\n",
              "      <td>1057</td>\n",
              "      <td>SENATE</td>\n",
              "      <td>0.096000</td>\n",
              "      <td>-0.19</td>\n",
              "      <td>0.50</td>\n",
              "      <td>-21.22</td>\n",
              "      <td>10544140.0</td>\n",
              "      <td>1.098224e+08</td>\n",
              "      <td>SENATE</td>\n",
              "      <td>79786.0</td>\n",
              "      <td>8.311800e+05</td>\n",
              "      <td>AI</td>\n",
              "    </tr>\n",
              "    <tr>\n",
              "      <th>2</th>\n",
              "      <td>1056</td>\n",
              "      <td>Big Data Protocol</td>\n",
              "      <td>0.201700</td>\n",
              "      <td>0.35</td>\n",
              "      <td>0.14</td>\n",
              "      <td>-20.36</td>\n",
              "      <td>10522378.0</td>\n",
              "      <td>5.227886e+07</td>\n",
              "      <td>BDP</td>\n",
              "      <td>248287.0</td>\n",
              "      <td>1.230849e+06</td>\n",
              "      <td>AI</td>\n",
              "    </tr>\n",
              "    <tr>\n",
              "      <th>3</th>\n",
              "      <td>1058</td>\n",
              "      <td>PIBBLE</td>\n",
              "      <td>0.000481</td>\n",
              "      <td>-0.50</td>\n",
              "      <td>-3.22</td>\n",
              "      <td>-23.71</td>\n",
              "      <td>10515630.0</td>\n",
              "      <td>2.191386e+10</td>\n",
              "      <td>PIB</td>\n",
              "      <td>245007.0</td>\n",
              "      <td>5.099293e+08</td>\n",
              "      <td>AI</td>\n",
              "    </tr>\n",
              "    <tr>\n",
              "      <th>4</th>\n",
              "      <td>1064</td>\n",
              "      <td>Ooki Protocol</td>\n",
              "      <td>0.002281</td>\n",
              "      <td>0.02</td>\n",
              "      <td>-0.75</td>\n",
              "      <td>-29.57</td>\n",
              "      <td>10377404.0</td>\n",
              "      <td>4.558587e+09</td>\n",
              "      <td>OOKI</td>\n",
              "      <td>2687294.0</td>\n",
              "      <td>1.178282e+09</td>\n",
              "      <td>AI</td>\n",
              "    </tr>\n",
              "  </tbody>\n",
              "</table>\n",
              "</div>"
            ],
            "text/plain": [
              "    top              Nombre  Precio USD   1h%  24h%    7d%    CAP. USD  \\\n",
              "0  1050  Robonomics.network    6.540000  0.37  0.56 -23.40  10888512.0   \n",
              "1  1057              SENATE    0.096000 -0.19  0.50 -21.22  10544140.0   \n",
              "2  1056   Big Data Protocol    0.201700  0.35  0.14 -20.36  10522378.0   \n",
              "3  1058              PIBBLE    0.000481 -0.50 -3.22 -23.71  10515630.0   \n",
              "4  1064       Ooki Protocol    0.002281  0.02 -0.75 -29.57  10377404.0   \n",
              "\n",
              "   ACC. CIRCULACION  Symbol  Volumen (24h) USD  Volumen (24h) Tokens CATEGORY  \n",
              "0      1.665451e+06     XRT            30861.0          4.720000e+03       AI  \n",
              "1      1.098224e+08  SENATE            79786.0          8.311800e+05       AI  \n",
              "2      5.227886e+07     BDP           248287.0          1.230849e+06       AI  \n",
              "3      2.191386e+10     PIB           245007.0          5.099293e+08       AI  \n",
              "4      4.558587e+09    OOKI          2687294.0          1.178282e+09       AI  "
            ]
          },
          "execution_count": 65,
          "metadata": {},
          "output_type": "execute_result"
        }
      ],
      "source": [
        "df_ai.head()"
      ]
    },
    {
      "cell_type": "code",
      "execution_count": 66,
      "metadata": {},
      "outputs": [],
      "source": [
        "data_ai = df_ai[[\"Nombre\",\"Symbol\",\"top\",\"1h%\",\"24h%\",\"7d%\",\"Volumen (24h) USD\",\"Volumen (24h) Tokens\",\"ACC. CIRCULACION\",\"CAP. USD\",\"Precio USD\",]].to_dict(orient=\"records\")\n",
        "data_gaming = df_gaming[[\"Nombre\",\"Symbol\",\"top\",\"1h%\",\"24h%\",\"7d%\",\"Volumen (24h) USD\",\"Volumen (24h) Tokens\",\"ACC. CIRCULACION\",\"CAP. USD\",\"Precio USD\",]].to_dict(orient=\"records\")\n",
        "data_memes = df_memes[[\"Nombre\",\"Symbol\",\"top\",\"1h%\",\"24h%\",\"7d%\",\"Volumen (24h) USD\",\"Volumen (24h) Tokens\",\"ACC. CIRCULACION\",\"CAP. USD\",\"Precio USD\",]].to_dict(orient=\"records\")"
      ]
    },
    {
      "cell_type": "code",
      "execution_count": 67,
      "metadata": {},
      "outputs": [],
      "source": [
        "data_cols = [\"Symbol\",\"top\",\"1h%\",\"24h%\",\"7d%\",\"Volumen (24h) USD\",\"Volumen (24h) Tokens\",\"ACC. CIRCULACION\",\"CAP. USD\",\"Precio USD\"]"
      ]
    },
    {
      "cell_type": "code",
      "execution_count": 68,
      "metadata": {},
      "outputs": [
        {
          "data": {
            "text/html": [
              "<div>\n",
              "<style scoped>\n",
              "    .dataframe tbody tr th:only-of-type {\n",
              "        vertical-align: middle;\n",
              "    }\n",
              "\n",
              "    .dataframe tbody tr th {\n",
              "        vertical-align: top;\n",
              "    }\n",
              "\n",
              "    .dataframe thead th {\n",
              "        text-align: right;\n",
              "    }\n",
              "</style>\n",
              "<table border=\"1\" class=\"dataframe\">\n",
              "  <thead>\n",
              "    <tr style=\"text-align: right;\">\n",
              "      <th></th>\n",
              "      <th>TOKENS</th>\n",
              "      <th>AI</th>\n",
              "      <th>GAMING</th>\n",
              "      <th>MEMES</th>\n",
              "    </tr>\n",
              "  </thead>\n",
              "  <tbody>\n",
              "    <tr>\n",
              "      <th>0</th>\n",
              "      <td>Trex20</td>\n",
              "      <td>0</td>\n",
              "      <td>1</td>\n",
              "      <td>0</td>\n",
              "    </tr>\n",
              "    <tr>\n",
              "      <th>1</th>\n",
              "      <td>Sponge</td>\n",
              "      <td>0</td>\n",
              "      <td>0</td>\n",
              "      <td>1</td>\n",
              "    </tr>\n",
              "    <tr>\n",
              "      <th>2</th>\n",
              "      <td>Heroes Chained</td>\n",
              "      <td>0</td>\n",
              "      <td>1</td>\n",
              "      <td>0</td>\n",
              "    </tr>\n",
              "    <tr>\n",
              "      <th>3</th>\n",
              "      <td>Crypton</td>\n",
              "      <td>0</td>\n",
              "      <td>1</td>\n",
              "      <td>0</td>\n",
              "    </tr>\n",
              "    <tr>\n",
              "      <th>4</th>\n",
              "      <td>Ring AI</td>\n",
              "      <td>1</td>\n",
              "      <td>0</td>\n",
              "      <td>0</td>\n",
              "    </tr>\n",
              "  </tbody>\n",
              "</table>\n",
              "</div>"
            ],
            "text/plain": [
              "           TOKENS  AI  GAMING  MEMES\n",
              "0          Trex20   0       1      0\n",
              "1          Sponge   0       0      1\n",
              "2  Heroes Chained   0       1      0\n",
              "3         Crypton   0       1      0\n",
              "4         Ring AI   1       0      0"
            ]
          },
          "execution_count": 68,
          "metadata": {},
          "output_type": "execute_result"
        }
      ],
      "source": [
        "df_tokens[\"AI\"] = df_tokens[\"TOKENS\"].apply(lambda x: 1 if x in tokens_ai else 0)\n",
        "df_tokens[\"GAMING\"] = df_tokens[\"TOKENS\"].apply(lambda x: 1 if x in tokens_gaming else 0)\n",
        "df_tokens[\"MEMES\"] = df_tokens[\"TOKENS\"].apply(lambda x: 1 if x in tokens_memes else 0)\n",
        "df_tokens.head()"
      ]
    },
    {
      "cell_type": "code",
      "execution_count": 69,
      "metadata": {},
      "outputs": [
        {
          "data": {
            "text/plain": [
              "(1131, 4)"
            ]
          },
          "execution_count": 69,
          "metadata": {},
          "output_type": "execute_result"
        }
      ],
      "source": [
        "df_tokens.shape"
      ]
    },
    {
      "cell_type": "code",
      "execution_count": 70,
      "metadata": {},
      "outputs": [],
      "source": [
        "dataframes = [df_ai,df_gaming,df_memes]"
      ]
    },
    {
      "cell_type": "code",
      "execution_count": 73,
      "metadata": {},
      "outputs": [],
      "source": [
        "\n",
        "df_tokens[\"top\"] = df_tokens[\"TOKENS\"].apply(lambda x: df_gaming[df_gaming[\"Nombre\"]==x][\"top\"].values[0] if x in df_gaming[\"Nombre\"].to_list() else None)\n",
        "df_tokens[\"top\"] = df_tokens.apply(lambda row: row[\"top\"] if pd.notnull(row[\"top\"]) else (df_ai[df_ai[\"Nombre\"]==row[\"TOKENS\"]][\"top\"].values[0] if row[\"TOKENS\"] in df_ai[\"Nombre\"].to_list() else None), axis=1)\n",
        "df_tokens[\"top\"] = df_tokens.apply(lambda row: row[\"top\"] if pd.notnull(row[\"top\"]) else (df_memes[df_memes[\"Nombre\"]==row[\"TOKENS\"]][\"top\"].values[0] if row[\"TOKENS\"] in df_memes[\"Nombre\"].to_list() else None), axis=1)\n"
      ]
    },
    {
      "cell_type": "code",
      "execution_count": 60,
      "metadata": {},
      "outputs": [],
      "source": [
        "#renombrar columan token por Symbol\n",
        "df_tokens = df_tokens.rename(columns={\"TOKENS\":\"Nombre\"})"
      ]
    },
    {
      "cell_type": "code",
      "execution_count": 76,
      "metadata": {},
      "outputs": [
        {
          "data": {
            "text/plain": [
              "Index(['TOKENS', 'AI', 'GAMING', 'MEMES', 'top'], dtype='object')"
            ]
          },
          "execution_count": 76,
          "metadata": {},
          "output_type": "execute_result"
        }
      ],
      "source": [
        "df_tokens.columns"
      ]
    },
    {
      "cell_type": "code",
      "execution_count": 77,
      "metadata": {},
      "outputs": [
        {
          "data": {
            "text/plain": [
              "Index(['top', 'Nombre', 'Precio USD', '1h%', '24h%', '7d%', 'CAP. USD',\n",
              "       'ACC. CIRCULACION', 'Symbol', 'Volumen (24h) USD',\n",
              "       'Volumen (24h) Tokens', 'CATEGORY'],\n",
              "      dtype='object')"
            ]
          },
          "execution_count": 77,
          "metadata": {},
          "output_type": "execute_result"
        }
      ],
      "source": [
        "df_ai.columns"
      ]
    },
    {
      "cell_type": "code",
      "execution_count": 81,
      "metadata": {},
      "outputs": [],
      "source": [
        "for col in data_cols:\n",
        "    df_tokens[col] = None\n",
        "    df_tokens[col] = df_tokens.apply(lambda row: row[col] if pd.notnull(row[col]) else (df_gaming[df_gaming[\"Nombre\"]==row[\"TOKENS\"]][col].values[0] if row[\"TOKENS\"] in df_gaming[\"Nombre\"].to_list() else None), axis=1)\n",
        "    df_tokens[col] = df_tokens.apply(lambda row: row[col] if pd.notnull(row[col]) else (df_ai[df_ai[\"Nombre\"]==row[\"TOKENS\"]][col].values[0] if row[\"TOKENS\"] in df_ai[\"Nombre\"].to_list() else None), axis=1)\n",
        "    df_tokens[col] = df_tokens.apply(lambda row: row[col] if pd.notnull(row[col]) else (df_memes[df_memes[\"Nombre\"]==row[\"TOKENS\"]][col].values[0] if row[\"TOKENS\"] in df_memes[\"Nombre\"].to_list() else None), axis=1)"
      ]
    },
    {
      "cell_type": "code",
      "execution_count": 88,
      "metadata": {},
      "outputs": [
        {
          "data": {
            "text/html": [
              "<div>\n",
              "<style scoped>\n",
              "    .dataframe tbody tr th:only-of-type {\n",
              "        vertical-align: middle;\n",
              "    }\n",
              "\n",
              "    .dataframe tbody tr th {\n",
              "        vertical-align: top;\n",
              "    }\n",
              "\n",
              "    .dataframe thead th {\n",
              "        text-align: right;\n",
              "    }\n",
              "</style>\n",
              "<table border=\"1\" class=\"dataframe\">\n",
              "  <thead>\n",
              "    <tr style=\"text-align: right;\">\n",
              "      <th></th>\n",
              "      <th>TOKENS</th>\n",
              "      <th>AI</th>\n",
              "      <th>GAMING</th>\n",
              "      <th>MEMES</th>\n",
              "      <th>top</th>\n",
              "      <th>Symbol</th>\n",
              "      <th>1h%</th>\n",
              "      <th>24h%</th>\n",
              "      <th>7d%</th>\n",
              "      <th>Volumen (24h) USD</th>\n",
              "      <th>Volumen (24h) Tokens</th>\n",
              "      <th>ACC. CIRCULACION</th>\n",
              "      <th>CAP. USD</th>\n",
              "      <th>Precio USD</th>\n",
              "    </tr>\n",
              "  </thead>\n",
              "  <tbody>\n",
              "    <tr>\n",
              "      <th>0</th>\n",
              "      <td>Trex20</td>\n",
              "      <td>0</td>\n",
              "      <td>1</td>\n",
              "      <td>0</td>\n",
              "      <td>2918.0</td>\n",
              "      <td>TX20</td>\n",
              "      <td>1.36</td>\n",
              "      <td>-7.86</td>\n",
              "      <td>-43.95</td>\n",
              "      <td>545511.0</td>\n",
              "      <td>10430536.0</td>\n",
              "      <td>2.127958e+07</td>\n",
              "      <td>1112909.0</td>\n",
              "      <td>0.052300</td>\n",
              "    </tr>\n",
              "    <tr>\n",
              "      <th>1</th>\n",
              "      <td>Sponge</td>\n",
              "      <td>0</td>\n",
              "      <td>0</td>\n",
              "      <td>1</td>\n",
              "      <td>4281.0</td>\n",
              "      <td>$SPONGE</td>\n",
              "      <td>1.41</td>\n",
              "      <td>-56.98</td>\n",
              "      <td>-11.06</td>\n",
              "      <td>36065.0</td>\n",
              "      <td>645864978.0</td>\n",
              "      <td>2.465155e+10</td>\n",
              "      <td>1376554.0</td>\n",
              "      <td>0.000056</td>\n",
              "    </tr>\n",
              "    <tr>\n",
              "      <th>2</th>\n",
              "      <td>Heroes Chained</td>\n",
              "      <td>0</td>\n",
              "      <td>1</td>\n",
              "      <td>0</td>\n",
              "      <td>1459.0</td>\n",
              "      <td>HEC</td>\n",
              "      <td>0.66</td>\n",
              "      <td>-0.38</td>\n",
              "      <td>-36.00</td>\n",
              "      <td>216957.0</td>\n",
              "      <td>4132362.0</td>\n",
              "      <td>4.915391e+07</td>\n",
              "      <td>2580673.0</td>\n",
              "      <td>0.052500</td>\n",
              "    </tr>\n",
              "    <tr>\n",
              "      <th>3</th>\n",
              "      <td>Crypton</td>\n",
              "      <td>0</td>\n",
              "      <td>1</td>\n",
              "      <td>0</td>\n",
              "      <td>1371.0</td>\n",
              "      <td>CRP</td>\n",
              "      <td>0.05</td>\n",
              "      <td>0.03</td>\n",
              "      <td>9.78</td>\n",
              "      <td>582055.0</td>\n",
              "      <td>1600068.0</td>\n",
              "      <td>9.768314e+06</td>\n",
              "      <td>3553124.0</td>\n",
              "      <td>0.363800</td>\n",
              "    </tr>\n",
              "    <tr>\n",
              "      <th>4</th>\n",
              "      <td>Ring AI</td>\n",
              "      <td>1</td>\n",
              "      <td>0</td>\n",
              "      <td>0</td>\n",
              "      <td>3389.0</td>\n",
              "      <td>RING</td>\n",
              "      <td>-1.20</td>\n",
              "      <td>-0.65</td>\n",
              "      <td>-2.86</td>\n",
              "      <td>180382.0</td>\n",
              "      <td>612863.0</td>\n",
              "      <td>1.000000e+08</td>\n",
              "      <td>29432666.0</td>\n",
              "      <td>0.294300</td>\n",
              "    </tr>\n",
              "  </tbody>\n",
              "</table>\n",
              "</div>"
            ],
            "text/plain": [
              "           TOKENS  AI  GAMING  MEMES     top   Symbol   1h%   24h%    7d%  \\\n",
              "0          Trex20   0       1      0  2918.0     TX20  1.36  -7.86 -43.95   \n",
              "1          Sponge   0       0      1  4281.0  $SPONGE  1.41 -56.98 -11.06   \n",
              "2  Heroes Chained   0       1      0  1459.0      HEC  0.66  -0.38 -36.00   \n",
              "3         Crypton   0       1      0  1371.0      CRP  0.05   0.03   9.78   \n",
              "4         Ring AI   1       0      0  3389.0     RING -1.20  -0.65  -2.86   \n",
              "\n",
              "   Volumen (24h) USD  Volumen (24h) Tokens  ACC. CIRCULACION    CAP. USD  \\\n",
              "0           545511.0            10430536.0      2.127958e+07   1112909.0   \n",
              "1            36065.0           645864978.0      2.465155e+10   1376554.0   \n",
              "2           216957.0             4132362.0      4.915391e+07   2580673.0   \n",
              "3           582055.0             1600068.0      9.768314e+06   3553124.0   \n",
              "4           180382.0              612863.0      1.000000e+08  29432666.0   \n",
              "\n",
              "   Precio USD  \n",
              "0    0.052300  \n",
              "1    0.000056  \n",
              "2    0.052500  \n",
              "3    0.363800  \n",
              "4    0.294300  "
            ]
          },
          "execution_count": 88,
          "metadata": {},
          "output_type": "execute_result"
        }
      ],
      "source": [
        "df_tokens.head()"
      ]
    },
    {
      "cell_type": "code",
      "execution_count": 89,
      "metadata": {},
      "outputs": [],
      "source": [
        "# añadir colunmnas de portafolio \n",
        "folder_path = \"./data/data_clean/PORTFOLIO/\"\n",
        "csv_files = list(Path(folder_path).glob(\"*.csv\"))\n",
        "\n",
        "filtered_files = [file.name for file in csv_files ]\n",
        "\n",
        "filtered_files  \n",
        "\n",
        "for portfolio in filtered_files:\n",
        "    df_portfolio = pd.read_csv(f\"{folder_path}{portfolio}\",sep=\";\")\n",
        "    df_portfolio = df_portfolio.rename(columns={\"NAME\":\"Nombre\"})\n",
        "    df_portfolio = df_portfolio[[\"Nombre\",\"PORTFOLIO\"]]\n",
        "    df_tokens[portfolio[:-4]] = df_tokens[\"TOKENS\"].apply(lambda x: 1 if x in df_portfolio[\"Nombre\"].to_list() else 0)"
      ]
    },
    {
      "cell_type": "code",
      "execution_count": 120,
      "metadata": {},
      "outputs": [],
      "source": [
        "pathFileClean = \"./data/data_clean/\"\n",
        "df_tokens.to_csv(f\"{pathFileClean}data_tokens_18042024_coinmarket.csv\",sep=\";\",index=False)"
      ]
    },
    {
      "cell_type": "code",
      "execution_count": 134,
      "metadata": {},
      "outputs": [],
      "source": [
        "df_tokens = pd.read_csv(f\"{pathFileClean}data_tokens_18042024_coinmarket.csv\",sep=\";\")"
      ]
    },
    {
      "cell_type": "code",
      "execution_count": 124,
      "metadata": {},
      "outputs": [
        {
          "data": {
            "text/plain": [
              "['BITCOIN.csv', 'CARDANO.csv', 'ETHERIUM.csv', 'SOLANA.csv', 'TRON.csv']"
            ]
          },
          "execution_count": 124,
          "metadata": {},
          "output_type": "execute_result"
        }
      ],
      "source": [
        "folder_path = \"./data/data_clean/ECOSYSTEM/\"\n",
        "csv_files = list(Path(folder_path).glob(\"*.csv\"))\n",
        "\n",
        "filtered_files = [file.name for file in csv_files ]\n",
        "\n",
        "filtered_files "
      ]
    },
    {
      "cell_type": "code",
      "execution_count": 138,
      "metadata": {},
      "outputs": [],
      "source": [
        "for ecosystem in filtered_files:\n",
        "    df_portfolio = pd.read_csv(f\"{folder_path}{ecosystem}\",sep=\";\")\n",
        "    df_portfolio = df_portfolio.rename(columns={\"NAME\":\"Nombre\"})\n",
        "    df_portfolio = df_portfolio[[\"Nombre\",\"ECOSYSTEM\"]]\n",
        "    df_tokens[ecosystem[:-4]] = df_tokens[\"TOKENS\"].apply(lambda x: 1 if x in df_portfolio[\"Nombre\"].to_list() else 0)\n",
        "\n",
        "\n"
      ]
    },
    {
      "cell_type": "code",
      "execution_count": 155,
      "metadata": {},
      "outputs": [
        {
          "data": {
            "text/plain": [
              "['BITCOIN', 'CARDANO', 'ETHERIUM', 'SOLANA', 'TRON']"
            ]
          },
          "execution_count": 155,
          "metadata": {},
          "output_type": "execute_result"
        }
      ],
      "source": [
        "ecosystem_list = list(df_tokens.columns)[34:]\n",
        "ecosystem_list"
      ]
    },
    {
      "cell_type": "code",
      "execution_count": 156,
      "metadata": {},
      "outputs": [],
      "source": [
        "df_tokens[\"OTHER\"] = df_tokens.apply(lambda row: 1 if all(row[eco] == 0 for eco in ecosystem_list) else 0, axis=1)"
      ]
    },
    {
      "cell_type": "code",
      "execution_count": 158,
      "metadata": {},
      "outputs": [],
      "source": [
        "df_tokens.to_csv(f\"{pathFileClean}data_tokens_18042024_coinmarket.csv\",sep=\";\",index=False)"
      ]
    },
    {
      "cell_type": "code",
      "execution_count": null,
      "metadata": {},
      "outputs": [],
      "source": [
        "json_obj = df_tokens.to_json(orient='records')\n"
      ]
    },
    {
      "cell_type": "code",
      "execution_count": 146,
      "metadata": {},
      "outputs": [],
      "source": [
        "with open('data_clean.json', 'w') as f:\n",
        "    f.write(json_obj)"
      ]
    },
    {
      "cell_type": "code",
      "execution_count": null,
      "metadata": {},
      "outputs": [],
      "source": [
        "json_obj[0]"
      ]
    }
  ],
  "metadata": {
    "colab": {
      "provenance": []
    },
    "kernelspec": {
      "display_name": "Python 3",
      "name": "python3"
    },
    "language_info": {
      "codemirror_mode": {
        "name": "ipython",
        "version": 3
      },
      "file_extension": ".py",
      "mimetype": "text/x-python",
      "name": "python",
      "nbconvert_exporter": "python",
      "pygments_lexer": "ipython3",
      "version": "3.12.0"
    }
  },
  "nbformat": 4,
  "nbformat_minor": 0
}
